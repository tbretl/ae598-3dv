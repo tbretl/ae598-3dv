{
 "cells": [
  {
   "cell_type": "markdown",
   "metadata": {},
   "source": [
    "# How to print tags and create templates"
   ]
  },
  {
   "cell_type": "markdown",
   "metadata": {},
   "source": [
    "## Set up notebook"
   ]
  },
  {
   "cell_type": "markdown",
   "metadata": {},
   "source": [
    "Do all imports."
   ]
  },
  {
   "cell_type": "code",
   "execution_count": null,
   "metadata": {},
   "outputs": [],
   "source": [
    "from pathlib import Path\n",
    "import cv2\n",
    "import numpy as np\n",
    "from pupil_apriltags import Detector\n",
    "import matplotlib.pyplot as plt\n",
    "import json"
   ]
  },
  {
   "cell_type": "markdown",
   "metadata": {},
   "source": [
    "Specify the location of the `apriltag-imgs` directory as well as of the directory to which you want to save images and templates."
   ]
  },
  {
   "cell_type": "code",
   "execution_count": null,
   "metadata": {},
   "outputs": [],
   "source": [
    "img_src_dir = Path('../../../apriltag-imgs')\n",
    "img_dst_dir = Path('.')"
   ]
  },
  {
   "cell_type": "markdown",
   "metadata": {},
   "source": [
    "Choose a tag family."
   ]
  },
  {
   "cell_type": "code",
   "execution_count": null,
   "metadata": {},
   "outputs": [],
   "source": [
    "# Tag family (a string)\n",
    "tag_family = 'tag36h11'\n",
    "\n",
    "# Tag image base name (a string) - must be consistent with name of tag family\n",
    "tag_basename = 'tag36_11_'"
   ]
  },
  {
   "cell_type": "markdown",
   "metadata": {},
   "source": [
    "## How to print one tag with known dimensions"
   ]
  },
  {
   "cell_type": "markdown",
   "metadata": {},
   "source": [
    "Choose a tag id."
   ]
  },
  {
   "cell_type": "code",
   "execution_count": null,
   "metadata": {},
   "outputs": [],
   "source": [
    "tag_id = 0"
   ]
  },
  {
   "cell_type": "markdown",
   "metadata": {},
   "source": [
    "Read the tag image."
   ]
  },
  {
   "cell_type": "code",
   "execution_count": null,
   "metadata": {},
   "outputs": [],
   "source": [
    "img_src = cv2.imread(str(Path(img_src_dir, tag_family, f'{tag_basename}{tag_id:05d}.png')), cv2.IMREAD_UNCHANGED)"
   ]
  },
  {
   "cell_type": "markdown",
   "metadata": {},
   "source": [
    "Make a copy of the tag image to save and print. (This isn't necessary - we do it for consistency later.)"
   ]
  },
  {
   "cell_type": "code",
   "execution_count": null,
   "metadata": {},
   "outputs": [],
   "source": [
    "img_dst = img_src.copy()"
   ]
  },
  {
   "cell_type": "markdown",
   "metadata": {},
   "source": [
    "Look at the tag image."
   ]
  },
  {
   "cell_type": "code",
   "execution_count": null,
   "metadata": {},
   "outputs": [],
   "source": [
    "# Create a figure with one axis\n",
    "fig, ax = plt.subplots(1, 1)\n",
    "\n",
    "# Show the image\n",
    "ax.imshow(img_dst)\n",
    "\n",
    "# Get the width and height of the image\n",
    "w_img_px = img_dst.shape[1]\n",
    "h_img_px = img_dst.shape[0]\n",
    "\n",
    "# Put a tick at each pixel\n",
    "ax.set_xticks(range(0, w_img_px, 1))\n",
    "ax.set_yticks(range(0, h_img_px, 1))\n",
    "\n",
    "# Draw a grid to show where the pixels are\n",
    "for i in range(w_img_px):\n",
    "    ax.plot([i - 0.5, i - 0.5], [0 - 0.5, h_img_px - 0.5], '-', color='C1')\n",
    "for i in range(h_img_px):\n",
    "    ax.plot([0 - 0.5, w_img_px - 0.5], [i - 0.5, i - 0.5], '-', color='C1')"
   ]
  },
  {
   "cell_type": "markdown",
   "metadata": {},
   "source": [
    "Specify the size of the tag in pixels."
   ]
  },
  {
   "cell_type": "code",
   "execution_count": null,
   "metadata": {},
   "outputs": [],
   "source": [
    "tag_size_px = 8"
   ]
  },
  {
   "cell_type": "markdown",
   "metadata": {},
   "source": [
    "We will use [matplotlib](https://matplotlib.org/) to create a figure with an image of this tag and to save this figure as a `png` file that can be printed. To do so, we will need to specify the dimensions of the axes in the figure where the image will be shown. These dimensions have the form `[left, bottom, width, height]`, where units are fractions of the figure width and height.\n",
    "\n",
    "Here is one way to compute axes dimensions that satisfy three properties:\n",
    "* There is at least a quarter-inch margin around the axes so the tag image is not cropped when printed.\n",
    "* The tag is as big as possible.\n",
    "* The size of each pixel when printed is a whole number of millimeters. (As a consquence, the side length - i.e., the distance between corners - of each tag will also be a whole number of millimeters.)\n",
    "\n",
    "After computing the axes dimensions, we print out the tag size in millimeters for reference."
   ]
  },
  {
   "cell_type": "code",
   "execution_count": null,
   "metadata": {},
   "outputs": [],
   "source": [
    "# Width and height of figure in inches\n",
    "w_fig_in = 8.5\n",
    "h_fig_in = 11.\n",
    "\n",
    "# Minimum margin around tag image in inches when printed\n",
    "margin_in = 0.25\n",
    "\n",
    "# Maximum width and height of axes in inches\n",
    "w_ax_in = w_fig_in - (2 * margin_in)\n",
    "h_ax_in = h_fig_in - (2 * margin_in)\n",
    "\n",
    "# Number of millimeters in one inch\n",
    "mm_per_inch = 25.4\n",
    "\n",
    "# Maximum width and height of each pixel in whole millimeters\n",
    "w_px_mm = np.floor(mm_per_inch * w_ax_in / w_img_px)\n",
    "h_px_mm = np.floor(mm_per_inch * h_ax_in / h_img_px)\n",
    "\n",
    "# Actual size of each pixel in whole millimeters\n",
    "px_per_mm = min(w_px_mm, h_px_mm)\n",
    "\n",
    "# Actual tag size in whole millimeters\n",
    "tag_size_mm = px_per_mm * tag_size_px\n",
    "\n",
    "# Width and height of axes as a fraction of figure width and height\n",
    "w_ax_frac = (px_per_mm * w_img_px / mm_per_inch) / w_fig_in\n",
    "h_ax_frac = (px_per_mm * h_img_px / mm_per_inch) / h_fig_in\n",
    "\n",
    "# Bounding box of axes\n",
    "ax_rect = [\n",
    "    (1. - w_ax_frac) / 2.,  # <-- left\n",
    "    (1. - h_ax_frac) / 2.,  # <-- bottom\n",
    "    w_ax_frac,              # <-- width\n",
    "    h_ax_frac,              # <-- height\n",
    "]\n",
    "\n",
    "# Print tag size in whole millimeters\n",
    "print(f'Tag size: {tag_size_mm:.0f} mm')"
   ]
  },
  {
   "cell_type": "markdown",
   "metadata": {},
   "source": [
    "Create and save the figure."
   ]
  },
  {
   "cell_type": "code",
   "execution_count": null,
   "metadata": {},
   "outputs": [],
   "source": [
    "# Create figure\n",
    "fig = plt.figure(\n",
    "    figsize=[w_fig_in, h_fig_in],\n",
    "    dpi=300,\n",
    "    facecolor='w',\n",
    ")\n",
    "\n",
    "# Create axis\n",
    "ax = fig.add_axes(\n",
    "    rect=ax_rect,\n",
    "    frame_on=False,\n",
    "    xticks=[],\n",
    "    yticks=[],\n",
    ")\n",
    "\n",
    "# Add image to axis\n",
    "ax.imshow(img_dst)\n",
    "\n",
    "# Filename of figure to save\n",
    "img_dst_filename = str(Path(img_dst_dir, f'{tag_basename}{tag_id:05d}-image.png'))\n",
    "\n",
    "# Save figure as png\n",
    "fig.savefig(img_dst_filename)"
   ]
  },
  {
   "cell_type": "markdown",
   "metadata": {},
   "source": [
    "Create a tag detector."
   ]
  },
  {
   "cell_type": "code",
   "execution_count": null,
   "metadata": {},
   "outputs": [],
   "source": [
    "tag_detector = Detector(\n",
    "    families=tag_family,\n",
    "    nthreads=1,\n",
    "    quad_decimate=1.0,\n",
    "    quad_sigma=0.0,\n",
    "    refine_edges=1,\n",
    "    decode_sharpening=0.,\n",
    "    debug=0,\n",
    ")"
   ]
  },
  {
   "cell_type": "markdown",
   "metadata": {},
   "source": [
    "Read the image we just saved, as grayscale."
   ]
  },
  {
   "cell_type": "code",
   "execution_count": null,
   "metadata": {},
   "outputs": [],
   "source": [
    "img = cv2.imread(img_dst_filename, cv2.IMREAD_GRAYSCALE)"
   ]
  },
  {
   "cell_type": "markdown",
   "metadata": {},
   "source": [
    "Detect tags in this image. There should be exactly one."
   ]
  },
  {
   "cell_type": "code",
   "execution_count": null,
   "metadata": {},
   "outputs": [],
   "source": [
    "# Detect tags\n",
    "tag_detections = tag_detector.detect(\n",
    "    img,\n",
    "    estimate_tag_pose=False,\n",
    "    camera_params=None,\n",
    "    tag_size=None,\n",
    ")\n",
    "\n",
    "# Make sure exactly one tag was detected\n",
    "assert(len(tag_detections) == 1)"
   ]
  },
  {
   "cell_type": "markdown",
   "metadata": {},
   "source": [
    "Show the image again, annotated with the tag detection."
   ]
  },
  {
   "cell_type": "code",
   "execution_count": null,
   "metadata": {},
   "outputs": [],
   "source": [
    "# Create figure\n",
    "fig, ax = plt.subplots(1, 1, figsize=[w_fig_in, h_fig_in])\n",
    "\n",
    "# Show image\n",
    "ax.imshow(img, cmap='gray')\n",
    "\n",
    "# Annotate with reference frame\n",
    "o = tag_detections[0].corners[0]\n",
    "w = tag_detections[0].corners[1][0] - o[0]\n",
    "ax.plot([o[0], o[0] + 0.25 * w], [o[1], o[1]], '-', color='C0', linewidth=6)\n",
    "ax.plot([o[0], o[0]], [o[1], o[1] - 0.25 * w], '-', color='C0', linewidth=6)\n",
    "ax.text(o[0] + 0.25 * w, o[1] + 0.01 * w, '$x_{tag}$', color='C0', fontsize=18, verticalalignment='top')\n",
    "ax.text(o[0] - 0.01 * w, o[1] - 0.25 * w, '$y_{tag}$', color='C0', fontsize=18, horizontalalignment='right')\n",
    "\n",
    "# Annotate with tag detections\n",
    "for d in tag_detections:\n",
    "    # Show tag id at center of tag\n",
    "    ax.text(\n",
    "        d.center[0],\n",
    "        d.center[1],\n",
    "        f'Tag ID = {d.tag_id}',\n",
    "        color='C1',\n",
    "        fontsize=48,\n",
    "        horizontalalignment='center',\n",
    "    )\n",
    "    \n",
    "    # Show a dot at each corner and label it with its index\n",
    "    for i_c, c in enumerate(d.corners):\n",
    "        ax.plot(c[0], c[1], '.', color='C1', markersize=24)\n",
    "        ax.text(c[0] + 50, c[1] - 25, f'{i_c}', color='C1', fontsize=24)\n"
   ]
  },
  {
   "cell_type": "markdown",
   "metadata": {},
   "source": [
    "Create and save a template. This template is a list. Each element of this list corresponds to a tag and specifies the tag ID and the $(x, y, z)$ coordinates of each corner in meters with respect to the \"tag\" reference frame shown in the image. In this case, there is only one tag, so the template is a list of length one."
   ]
  },
  {
   "cell_type": "code",
   "execution_count": null,
   "metadata": {},
   "outputs": [],
   "source": [
    "# Number of millimeters in one meter\n",
    "mm_per_m = 1000.\n",
    "\n",
    "# Create template\n",
    "template = {\n",
    "    'tag_family': tag_family,\n",
    "    'tags': [\n",
    "        {\n",
    "            'tag_id': tag_id,\n",
    "            'corners': ((tag_size_mm / mm_per_m) * np.array([\n",
    "                [0., 0., 0.], # bottom left\n",
    "                [1., 0., 0.], # bottom right\n",
    "                [1., 1., 0.], # top right\n",
    "                [0., 1., 0.], # top left\n",
    "            ])).tolist(),\n",
    "        }\n",
    "    ]\n",
    "}\n",
    "\n",
    "# Specify filename of template\n",
    "template_filename = str(Path(img_dst_dir, f'{tag_basename}{tag_id:05d}-template.json'))\n",
    "\n",
    "# Save template\n",
    "with open(template_filename, 'w') as f:\n",
    "    json.dump(template, f, indent=4)"
   ]
  },
  {
   "cell_type": "markdown",
   "metadata": {},
   "source": [
    "## How to print a grid of tags with known dimensions"
   ]
  },
  {
   "cell_type": "markdown",
   "metadata": {},
   "source": [
    "Find the width and height of each square tag image (including the border)."
   ]
  },
  {
   "cell_type": "code",
   "execution_count": null,
   "metadata": {},
   "outputs": [],
   "source": [
    "tag_img_size_px = img_src.shape[0]\n",
    "assert(tag_img_size_px == img_src.shape[1])"
   ]
  },
  {
   "cell_type": "markdown",
   "metadata": {},
   "source": [
    "Specify the number of rows and columns in the tag grid."
   ]
  },
  {
   "cell_type": "code",
   "execution_count": null,
   "metadata": {},
   "outputs": [],
   "source": [
    "number_of_rows = 5\n",
    "number_of_cols = 8"
   ]
  },
  {
   "cell_type": "markdown",
   "metadata": {},
   "source": [
    "Create a blank image for the tag grid."
   ]
  },
  {
   "cell_type": "code",
   "execution_count": null,
   "metadata": {},
   "outputs": [],
   "source": [
    "# Make all pixels white and opaque by default\n",
    "img_dst = 255 * np.ones((\n",
    "    number_of_rows * tag_img_size_px,\n",
    "    number_of_cols * tag_img_size_px,\n",
    "    4,\n",
    "), dtype=np.uint8)"
   ]
  },
  {
   "cell_type": "markdown",
   "metadata": {},
   "source": [
    "Add tag images to the tag grid."
   ]
  },
  {
   "cell_type": "code",
   "execution_count": null,
   "metadata": {},
   "outputs": [],
   "source": [
    "for row in range(number_of_rows):\n",
    "    for col in range(number_of_cols):\n",
    "        tag_id = (row * number_of_cols) + col\n",
    "        img_src = cv2.imread(\n",
    "            str(Path(img_src_dir, tag_family, f'{tag_basename}{tag_id:05d}.png')),\n",
    "            cv2.IMREAD_UNCHANGED,\n",
    "        )\n",
    "        i_start = ((number_of_rows - (row + 1)) * tag_img_size_px)\n",
    "        j_start = (col * tag_img_size_px)\n",
    "        img_dst[\n",
    "            i_start:(i_start + tag_img_size_px),\n",
    "            j_start:(j_start + tag_img_size_px),\n",
    "            :,\n",
    "        ] = img_src.copy()"
   ]
  },
  {
   "cell_type": "markdown",
   "metadata": {},
   "source": [
    "Look at the tag grid image."
   ]
  },
  {
   "cell_type": "code",
   "execution_count": null,
   "metadata": {},
   "outputs": [],
   "source": [
    "# Create a figure with one axis\n",
    "fig, ax = plt.subplots(1, 1, figsize=(img_dst.shape[1] / 5, img_dst.shape[0] / 5))\n",
    "\n",
    "# Show the tag grid image\n",
    "ax.imshow(img_dst)\n",
    "\n",
    "# Get the width and height of the image\n",
    "w_img_px = img_dst.shape[1]\n",
    "h_img_px = img_dst.shape[0]\n",
    "\n",
    "# Put a tick at each pixel\n",
    "ax.set_xticks(range(0, w_img_px, 1))\n",
    "ax.set_yticks(range(0, h_img_px, 1))\n",
    "ax.tick_params(axis='x', labelsize=8)\n",
    "ax.tick_params(axis='y', labelsize=8)\n",
    "\n",
    "# Draw a grid to show where the pixels are\n",
    "for i in range(w_img_px):\n",
    "    ax.plot([i - 0.5, i - 0.5], [0 - 0.5, h_img_px - 0.5], '-', color='C1')\n",
    "for i in range(h_img_px):\n",
    "    ax.plot([0 - 0.5, w_img_px - 0.5], [i - 0.5, i - 0.5], '-', color='C1')"
   ]
  },
  {
   "cell_type": "markdown",
   "metadata": {},
   "source": [
    "Again, to create a figure with an image of this tag grid, we need to specify the dimensions of the axes in the figure where the image will be shown. We do this just like before, noting that a second consequence of our choice to make the size of each pixel a whole number of millimeters is that the distance between each tag will also be a whole number of millimeters."
   ]
  },
  {
   "cell_type": "code",
   "execution_count": null,
   "metadata": {},
   "outputs": [],
   "source": [
    "# Width and height of figure in inches\n",
    "w_fig_in = 11.\n",
    "h_fig_in = 8.5\n",
    "\n",
    "# Maximum width and height of axes in inches\n",
    "w_ax_in = w_fig_in - (2 * margin_in)\n",
    "h_ax_in = h_fig_in - (2 * margin_in)\n",
    "\n",
    "# Maximum width and height of each pixel in whole millimeters\n",
    "w_px_mm = np.floor(mm_per_inch * w_ax_in / w_img_px)\n",
    "h_px_mm = np.floor(mm_per_inch * h_ax_in / h_img_px)\n",
    "\n",
    "# Actual size of each pixel in whole millimeters\n",
    "px_per_mm = min(w_px_mm, h_px_mm)\n",
    "\n",
    "# Actual tag size in whole millimeters\n",
    "tag_size_mm = px_per_mm * tag_size_px\n",
    "\n",
    "# Actual tag border size in whole millimeters\n",
    "tag_border_mm = px_per_mm * ((tag_img_size_px - tag_size_px) / 2)\n",
    "\n",
    "# Width and height of axes as a fraction of figure width and height\n",
    "w_ax_frac = (px_per_mm * w_img_px / mm_per_inch) / w_fig_in\n",
    "h_ax_frac = (px_per_mm * h_img_px / mm_per_inch) / h_fig_in\n",
    "\n",
    "# Bounding box of axes\n",
    "ax_rect = [\n",
    "    (1. - w_ax_frac) / 2.,  # <-- left\n",
    "    (1. - h_ax_frac) / 2.,  # <-- bottom\n",
    "    w_ax_frac,              # <-- width\n",
    "    h_ax_frac,              # <-- height\n",
    "]\n",
    "\n",
    "# Print tag size and tag border size in whole millimeters\n",
    "print(f'Tag size: {tag_size_mm:.0f} mm')\n",
    "print(f'Tag border size: {tag_border_mm:.0f} mm')"
   ]
  },
  {
   "cell_type": "markdown",
   "metadata": {},
   "source": [
    "Create and save the figure."
   ]
  },
  {
   "cell_type": "code",
   "execution_count": null,
   "metadata": {},
   "outputs": [],
   "source": [
    "# Create figure\n",
    "fig = plt.figure(\n",
    "    figsize=[w_fig_in, h_fig_in],\n",
    "    dpi=300,\n",
    "    facecolor='w',\n",
    ")\n",
    "\n",
    "# Create axis\n",
    "ax = fig.add_axes(\n",
    "    rect=ax_rect,\n",
    "    frame_on=False,\n",
    "    xticks=[],\n",
    "    yticks=[],\n",
    ")\n",
    "\n",
    "# Add tag image to axis\n",
    "ax.imshow(img_dst)\n",
    "\n",
    "# Filename of figure to save\n",
    "img_dst_filename = str(Path(img_dst_dir, f'{tag_basename}grid_{number_of_rows}x{number_of_cols}-image.png'))\n",
    "\n",
    "# Save figure as png\n",
    "fig.savefig(img_dst_filename)"
   ]
  },
  {
   "cell_type": "markdown",
   "metadata": {},
   "source": [
    "Read the image we just saved, as grayscale."
   ]
  },
  {
   "cell_type": "code",
   "execution_count": null,
   "metadata": {},
   "outputs": [],
   "source": [
    "img = cv2.imread(img_dst_filename, cv2.IMREAD_GRAYSCALE)"
   ]
  },
  {
   "cell_type": "markdown",
   "metadata": {},
   "source": [
    "Detect tags in this image. There should be exactly fourty."
   ]
  },
  {
   "cell_type": "code",
   "execution_count": null,
   "metadata": {},
   "outputs": [],
   "source": [
    "# Detect tags\n",
    "tag_detections = tag_detector.detect(\n",
    "    img,\n",
    "    estimate_tag_pose=False,\n",
    "    camera_params=None,\n",
    "    tag_size=None,\n",
    ")\n",
    "\n",
    "# Make sure exactly one tag was detected\n",
    "assert(len(tag_detections) == number_of_cols * number_of_rows)"
   ]
  },
  {
   "cell_type": "markdown",
   "metadata": {},
   "source": [
    "Show the image again, annotated with all tag detections."
   ]
  },
  {
   "cell_type": "code",
   "execution_count": null,
   "metadata": {},
   "outputs": [],
   "source": [
    "# Create figure\n",
    "fig, ax = plt.subplots(1, 1, figsize=[w_fig_in, h_fig_in])\n",
    "\n",
    "# Show image\n",
    "ax.imshow(img, cmap='gray')\n",
    "\n",
    "# Annotate with reference frame\n",
    "o = tag_detections[0].corners[0]\n",
    "w = tag_detections[0].corners[1][0] - o[0]\n",
    "ax.plot([o[0], o[0] + 0.75 * w], [o[1], o[1]], '-', color='C0', linewidth=4)\n",
    "ax.plot([o[0], o[0]], [o[1], o[1] - 0.75 * w], '-', color='C0', linewidth=4)\n",
    "ax.text(o[0] + 0.75 * w, o[1] + 0.05 * w, '$x_{tag}$', color='C0', fontsize=18, verticalalignment='top')\n",
    "ax.text(o[0] - 0.05 * w, o[1] - 0.75 * w, '$y_{tag}$', color='C0', fontsize=18, horizontalalignment='right')\n",
    "\n",
    "# Annotate with tag detections\n",
    "for d in tag_detections:\n",
    "    # Show tag id at center of tag\n",
    "    ax.text(\n",
    "        d.center[0],\n",
    "        d.center[1],\n",
    "        f'{d.tag_id}',\n",
    "        color='C1',\n",
    "        fontsize=24,\n",
    "        weight='bold',\n",
    "        verticalalignment='center',\n",
    "        horizontalalignment='center',\n",
    "    )\n",
    "    \n",
    "    # Show a dot at each corner\n",
    "    for i_c, c in enumerate(d.corners):\n",
    "        ax.plot(c[0], c[1], '.', color='C1', markersize=9)\n",
    "        ax.text(c[0] + 8, c[1] - 8, f'{i_c}', color='C1', fontsize=9)\n"
   ]
  },
  {
   "cell_type": "markdown",
   "metadata": {},
   "source": [
    "Create and save a template. This template is a list. Each element of this list corresponds to a tag and specifies the tag ID and the $(x, y, z)$ coordinates of each corner in meters with respect to the \"tag\" reference frame shown in the image."
   ]
  },
  {
   "cell_type": "code",
   "execution_count": null,
   "metadata": {},
   "outputs": [],
   "source": [
    "# Create a canonical set of corners\n",
    "corners = (tag_size_mm / mm_per_m) * np.array([\n",
    "    [0., 0., 0.], # bottom left\n",
    "    [1., 0., 0.], # bottom right\n",
    "    [1., 1., 0.], # top right\n",
    "    [0., 1., 0.], # top left\n",
    "])\n",
    "\n",
    "# Create template\n",
    "template = {\n",
    "    'tag_family': tag_family,\n",
    "    'tags': [],\n",
    "}\n",
    "for row in range(number_of_rows):\n",
    "    for col in range(number_of_cols):\n",
    "        tag_id = (row * number_of_cols) + col\n",
    "        bottom_left = np.array([\n",
    "            col * (tag_size_mm + 2 * tag_border_mm) / mm_per_m,\n",
    "            row * (tag_size_mm + 2 * tag_border_mm) / mm_per_m,\n",
    "            0.,\n",
    "        ])\n",
    "        template['tags'].append({\n",
    "            'tag_id': tag_id,\n",
    "            'corners': np.round((corners + bottom_left), decimals=3).tolist()\n",
    "        })\n",
    "\n",
    "# Specify filename of template\n",
    "template_filename = str(Path(img_dst_dir, f'{tag_basename}grid_{number_of_rows}x{number_of_cols}-template.json'))\n",
    "\n",
    "# Save template\n",
    "with open(template_filename, 'w') as f:\n",
    "    json.dump(template, f, indent=4)"
   ]
  },
  {
   "cell_type": "markdown",
   "metadata": {},
   "source": [
    "Visualize the template to make sure it is correct."
   ]
  },
  {
   "cell_type": "code",
   "execution_count": null,
   "metadata": {},
   "outputs": [],
   "source": [
    "# Create figure\n",
    "fig, ax = plt.subplots(1, 1, figsize=(2 * number_of_rows, 2 * number_of_cols))\n",
    "\n",
    "# Create sets to hold ticks so grid-lines go through tag corners\n",
    "xticks = set()\n",
    "yticks = set()\n",
    "\n",
    "# Iterate over all tags\n",
    "for tag in template['tags']:\n",
    "    # Get tag properties\n",
    "    tag_id = tag['tag_id']\n",
    "    corners = np.array(tag['corners'])\n",
    "    center = np.mean(corners, 0)\n",
    "\n",
    "    # Iterate over all corners\n",
    "    for i_c, c in enumerate(corners):\n",
    "        # Add corners to tick sets\n",
    "        xticks.add(c[0])\n",
    "        yticks.add(c[1])\n",
    "\n",
    "        # Show and label corners\n",
    "        ax.plot(c[0], c[1], '.', color='C1', markersize=6)\n",
    "        ax.text(c[0] + 0.001, c[1] + 0.001, f'{i_c}', color='C1', fontsize=9)\n",
    "    \n",
    "        # Show tag id at center of tag\n",
    "        ax.text(\n",
    "            center[0],\n",
    "            center[1],\n",
    "            f'{tag_id}',\n",
    "            color='C1',\n",
    "            fontsize=16,\n",
    "            weight='bold',\n",
    "            verticalalignment='center',\n",
    "            horizontalalignment='center',\n",
    "        )\n",
    "\n",
    "# Make everything look nice\n",
    "ax.set_aspect('equal')\n",
    "ax.grid()\n",
    "ax.set_xticks(list(xticks))\n",
    "ax.set_yticks(list(yticks))\n",
    "ax.tick_params(axis='x', labelsize=9, labelrotation=90.)\n",
    "ax.tick_params(axis='y', labelsize=9)"
   ]
  }
 ],
 "metadata": {
  "kernelspec": {
   "display_name": "ae598-3dv",
   "language": "python",
   "name": "python3"
  },
  "language_info": {
   "codemirror_mode": {
    "name": "ipython",
    "version": 3
   },
   "file_extension": ".py",
   "mimetype": "text/x-python",
   "name": "python",
   "nbconvert_exporter": "python",
   "pygments_lexer": "ipython3",
   "version": "3.12.1"
  }
 },
 "nbformat": 4,
 "nbformat_minor": 2
}
