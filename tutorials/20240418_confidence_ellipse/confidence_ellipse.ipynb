{
 "cells": [
  {
   "cell_type": "markdown",
   "metadata": {},
   "source": [
    "# Normal distributions: simulation and confidence ellipse"
   ]
  },
  {
   "cell_type": "markdown",
   "metadata": {},
   "source": [
    "Import everything we need."
   ]
  },
  {
   "cell_type": "code",
   "execution_count": null,
   "metadata": {},
   "outputs": [],
   "source": [
    "import numpy as np\n",
    "import secrets\n",
    "from scipy.stats import chi2\n",
    "from scipy.linalg import sqrtm\n",
    "import matplotlib.pyplot as plt\n",
    "from matplotlib.patches import Ellipse"
   ]
  },
  {
   "cell_type": "markdown",
   "metadata": {},
   "source": [
    "Create random number generator."
   ]
  },
  {
   "cell_type": "code",
   "execution_count": null,
   "metadata": {},
   "outputs": [],
   "source": [
    "seed = secrets.randbits(32)\n",
    "print(f'seeding RNG with {seed}')\n",
    "rng = np.random.default_rng(seed)"
   ]
  },
  {
   "cell_type": "markdown",
   "metadata": {},
   "source": [
    "Define a function to print things nicely."
   ]
  },
  {
   "cell_type": "code",
   "execution_count": null,
   "metadata": {},
   "outputs": [],
   "source": [
    "def myprint(M):\n",
    "    \"\"\"\n",
    "    Prints either a scalar or a numpy array with four digits after the\n",
    "    decimal and with consistent spacing so it is easier to read.\n",
    "    \"\"\"\n",
    "    if type(M) is np.ndarray:\n",
    "        with np.printoptions(linewidth=150, formatter={'float': lambda x: f'{x:10.4f}'}):\n",
    "            print(M)\n",
    "    else:\n",
    "        print(f'{M:10.4f}')"
   ]
  },
  {
   "cell_type": "markdown",
   "metadata": {},
   "source": [
    "## How to simulate a normally distributed random vector"
   ]
  },
  {
   "cell_type": "markdown",
   "metadata": {},
   "source": [
    "If $x \\sim \\mathcal{N}(0, I)$, then we say that the random vector $x \\in \\mathbb{R}^2$ has a standard normal distribution, and simulate it as follows:"
   ]
  },
  {
   "cell_type": "code",
   "execution_count": null,
   "metadata": {},
   "outputs": [],
   "source": [
    "# Choose number of points\n",
    "n = 100\n",
    "\n",
    "# Sample the points\n",
    "x = np.array([rng.standard_normal(size=2) for i in range(n)])\n",
    "\n",
    "# Plot the points\n",
    "fig, ax = plt.subplots(1, 1, figsize=(5, 5))\n",
    "ax.plot(x[:, 0], x[:, 1], '.')\n",
    "ax.set_xlim([-5., 5.])\n",
    "ax.set_ylim([-5., 5.])\n",
    "ax.set_aspect('equal')\n",
    "ax.grid()"
   ]
  },
  {
   "cell_type": "markdown",
   "metadata": {},
   "source": [
    "If $y \\sim \\mathcal{N}(\\mu_y, \\Sigma_y)$, then we say that the random vector $y \\in \\mathbb{R}^2$ has mean $\\mu_y \\in \\mathbb{R}^2$ and covarance $\\Sigma_y \\in \\mathbb{R}^{2\\times 2}$. One way to simulate $y$ is as\n",
    "$$ y = \\Sigma_y^{1/2} x + \\mu_y $$\n",
    "where $x \\sim \\mathcal{N}(0, I)$ and where $\\Sigma_y^{1/2}$ is the matrix square root of $\\Sigma_y$:"
   ]
  },
  {
   "cell_type": "code",
   "execution_count": null,
   "metadata": {},
   "outputs": [],
   "source": [
    "# Choose mean and covariance\n",
    "mu_y = np.array([-1., 2.])\n",
    "cov_y = np.array([[2., 1.],\n",
    "                  [1., 1.]])\n",
    "\n",
    "# Find matrix square root of covarance\n",
    "A = sqrtm(cov_y)\n",
    "\n",
    "# Choose number of points\n",
    "n = 100\n",
    "\n",
    "# Sample x from a standard normal distribution\n",
    "x = np.array([rng.standard_normal(size=2) for i in range(n)])\n",
    "\n",
    "# Compute y as a linear transformation of x\n",
    "y = np.array([A @ x_i + mu_y for x_i in x])\n",
    "\n",
    "# Plot the points\n",
    "fig, ax = plt.subplots(1, 1, figsize=(5, 5))\n",
    "ax.plot(y[:, 0], y[:, 1], '.')\n",
    "ax.set_xlim([-5., 5.])\n",
    "ax.set_ylim([-5., 5.])\n",
    "ax.set_aspect('equal')\n",
    "ax.grid()"
   ]
  },
  {
   "cell_type": "markdown",
   "metadata": {},
   "source": [
    "Note that the covariance matrix must be symmetric ($\\Sigma_y = \\Sigma_y^\\top$) and positive definite ($\\Sigma_y > 0$)."
   ]
  },
  {
   "cell_type": "markdown",
   "metadata": {},
   "source": [
    "## How to plot a confidence ellipse"
   ]
  },
  {
   "cell_type": "markdown",
   "metadata": {},
   "source": [
    "The random vector $y\\in\\R^2$ with distribution $y \\sim \\mathcal{N}(\\mu_y, \\Sigma_y)$ has the probability density function\n",
    "$$ p(y) = \\dfrac{1}{2\\pi\\sqrt{\\det(\\Sigma_y)}} \\exp\\left( -\\dfrac{1}{2} (y - \\mu_y)^\\top \\Sigma_y^{-1} (y - \\mu_y) \\right). $$\n",
    "Any point sampled from this distribution will satisfy\n",
    "$$ (y - \\mu_y)^\\top \\Sigma_y^{-1} (y - \\mu_y) \\leq F^{-1}_{\\chi_2^2}(c) $$\n",
    "with probability $c \\in [0, 1]$, where $F^{-1}_{\\chi_2^2}$ is the inverse cumulative distribution function that is associated with the $\\chi^2_2$ (\"chi-squared\") distribution with two degrees of freedom. The set of all points satisfying this inequality is called a \"confidence ellipse.\" In particular, the set of all points satisfying this inequality for $c = 0.9$ (as an example) is called the \"90% confidence ellipse,\" because 90% of points sampled from normal distribution with mean $\\mu_y$ and covarianace $\\Sigma_y$ will be in this ellipse (at least in the limit as the number of sampled points gets large)."
   ]
  },
  {
   "cell_type": "markdown",
   "metadata": {},
   "source": [
    "### Ellipse as image of unit ball"
   ]
  },
  {
   "cell_type": "markdown",
   "metadata": {},
   "source": [
    "Remember that we could simulate $y\\sim\\mathcal{N}(\\mu_y, \\Sigma_y)$ as\n",
    "$$ y = Ax + \\mu_y $$\n",
    "where $ A = \\Sigma_y^{1/2} $ and $ x \\sim \\mathcal{N}(0, I) $. In the same way, if $x$ satisfies\n",
    "$$ x^T x \\leq F^{-1}_{\\chi_2^2}(c) $$\n",
    "then\n",
    "$$ y = Ax + \\mu_y $$\n",
    "will satisfy\n",
    "$$ (y - \\mu_y)^\\top \\Sigma_y^{-1} (y - \\mu_y) \\leq F^{-1}_{\\chi_2^2}(c). $$\n",
    "So, one way to plot a point $y$ on the confidence ellipsoid is to generate a point $x$ that satisfies\n",
    "$$ \\|x\\|=1 $$\n",
    "and then to apply the transformation\n",
    "$$ A\\left( \\sqrt{F^{-1}_{\\chi_2^2}(c)} \\;\\right) x + \\mu_y. $$"
   ]
  },
  {
   "cell_type": "code",
   "execution_count": null,
   "metadata": {},
   "outputs": [],
   "source": [
    "# Choose confidence\n",
    "c = 0.9\n",
    "\n",
    "# Get inverse cdf\n",
    "alpha = chi2.ppf(c, df=2)\n",
    "\n",
    "# Generate points on the unit ball\n",
    "n_ellipse = 100\n",
    "x_ellipse = np.array([[np.cos(theta), np.sin(theta)] for theta in np.linspace(0, 2 * np.pi, n_ellipse)])\n",
    "y_ellipse = np.array([A @ (np.sqrt(alpha) * x_i) + mu_y for x_i in x_ellipse])\n",
    "\n",
    "# Create figure\n",
    "fig, ax = plt.subplots(1, 1, figsize=(5, 5))\n",
    "ax.set_xlim([-5., 5.])\n",
    "ax.set_ylim([-5., 5.])\n",
    "ax.set_aspect('equal')\n",
    "ax.grid()\n",
    "\n",
    "# Plot points\n",
    "ax.plot(y[:, 0], y[:, 1], '.')\n",
    "\n",
    "# Plot ellipse\n",
    "ax.plot(y_ellipse[:, 0], y_ellipse[:, 1], '-', linewidth=2)\n",
    "\n",
    "plt.show()"
   ]
  },
  {
   "cell_type": "markdown",
   "metadata": {},
   "source": [
    "### Ellipse from eigenvectors and eigenvalues"
   ]
  },
  {
   "cell_type": "markdown",
   "metadata": {},
   "source": [
    "Suppose that the eigenvectors of $\\Sigma_y^{-1}$ are $v_1, v_2 \\in \\mathbb{R}^2$ and that the corresponding eigenvalues are $\\lambda_1, \\lambda_2 \\in \\mathbb{R}$. Then, the $c$-confidence ellipse associated with the distribution $\\mathcal{N}(\\mu_y, \\Sigma_y)$ has center $\\mu_y$, has semiaxes along $v_1$ and $v_2$, and has semiaxis lengths of\n",
    "$$\\sqrt{\\dfrac{F^{-1}_{\\chi_2^2}(c)}{\\lambda_1}} \\qquad\\text{and}\\qquad \\sqrt{\\dfrac{F^{-1}_{\\chi_2^2}(c)}{\\lambda_2}}$$\n",
    "respectively."
   ]
  },
  {
   "cell_type": "markdown",
   "metadata": {},
   "source": [
    "Suppose that the eigenvectors of $\\Sigma_y$ are $v_1, v_2 \\in \\mathbb{R}^2$ and that the corresponding eigenvalues are $\\lambda_1, \\lambda_2 \\in \\mathbb{R}$. Then, the $c$-confidence ellipse associated with the distribution $\\mathcal{N}(\\mu_y, \\Sigma_y)$ has center $\\mu_y$, has semiaxes along $v_1$ and $v_2$, and has semiaxis lengths of\n",
    "$$\\sqrt{F^{-1}_{\\chi_2^2}(c) \\; \\lambda_1} \\qquad\\text{and}\\qquad \\sqrt{F^{-1}_{\\chi_2^2}(c) \\; \\lambda_2}$$\n",
    "respectively."
   ]
  },
  {
   "cell_type": "code",
   "execution_count": null,
   "metadata": {},
   "outputs": [],
   "source": [
    "# Find eigenvalues and eigenvectors of inverse covariance matrix\n",
    "eigvals, eigvecs = np.linalg.eig(cov_y)\n",
    "v_1 = eigvecs[:, 0]\n",
    "v_2 = eigvecs[:, 1]\n",
    "lambda_1 = eigvals[0]\n",
    "lambda_2 = eigvals[1]\n",
    "\n",
    "# Create figure\n",
    "fig, ax = plt.subplots(1, 1, figsize=(5, 5))\n",
    "ax.set_xlim([-5., 5.])\n",
    "ax.set_ylim([-5., 5.])\n",
    "ax.set_aspect('equal')\n",
    "ax.grid()\n",
    "\n",
    "# Plot points\n",
    "ax.plot(y[:, 0], y[:, 1], '.')\n",
    "\n",
    "# Plot ellipse\n",
    "ax.add_patch(Ellipse(\n",
    "    xy=mu_y,\n",
    "    width=(2 * np.sqrt(alpha * lambda_1)),\n",
    "    height=(2 * np.sqrt(alpha * lambda_2)),\n",
    "    angle=np.rad2deg(np.arctan2(v_1[1], v_1[0])),\n",
    "    fill=False,\n",
    "    edgecolor='C1',\n",
    "    linewidth=2,\n",
    "))\n",
    "\n",
    "# Plot axes of ellipse\n",
    "ax.plot(\n",
    "    [mu_y[0], mu_y[0] + np.sqrt(alpha * lambda_1) * v_1[0]],\n",
    "    [mu_y[1], mu_y[1] + np.sqrt(alpha * lambda_1) * v_1[1]],\n",
    "    linewidth=1,\n",
    "    color='C1'\n",
    ")\n",
    "ax.plot(\n",
    "    [mu_y[0], mu_y[0] + np.sqrt(alpha * lambda_2) * v_2[0]],\n",
    "    [mu_y[1], mu_y[1] + np.sqrt(alpha * lambda_2) * v_2[1]],\n",
    "    linewidth=1,\n",
    "    color='C1'\n",
    ")\n",
    "\n",
    "plt.show()"
   ]
  },
  {
   "cell_type": "markdown",
   "metadata": {},
   "source": [
    "### Is the confidence ellipse correct?"
   ]
  },
  {
   "cell_type": "markdown",
   "metadata": {},
   "source": [
    "Sample a much larger number of points."
   ]
  },
  {
   "cell_type": "code",
   "execution_count": null,
   "metadata": {},
   "outputs": [],
   "source": [
    "# Choose number of points\n",
    "n = 1000\n",
    "\n",
    "# Sample x from a standard normal distribution\n",
    "x = np.array([rng.standard_normal(size=2) for i in range(n)])\n",
    "\n",
    "# Compute y as a linear transformation of x\n",
    "y = np.array([A @ x_i + mu_y for x_i in x])"
   ]
  },
  {
   "cell_type": "markdown",
   "metadata": {},
   "source": [
    "Check how many of these points are inside the confidence ellipse."
   ]
  },
  {
   "cell_type": "code",
   "execution_count": null,
   "metadata": {},
   "outputs": [],
   "source": [
    "# Total number of points (cumulative)\n",
    "num_points = 1 + np.array(range(len(y)))\n",
    "\n",
    "# Fraction of points inside confidence ellipse (cumulative)\n",
    "is_inside = np.array([(y_i - mu_y).T @ np.linalg.inv(cov_y) @ (y_i - mu_y) <= alpha for y_i in y])\n",
    "fraction_in_ellipse = np.cumsum(is_inside) / num_points\n",
    "\n",
    "# Lists of points inside and outside confidence ellipse\n",
    "y_inside = np.array([y_i for y_i, is_inside_i in zip(y, is_inside) if is_inside_i])\n",
    "y_outside = np.array([y_i for y_i, is_inside_i in zip(y, is_inside) if not is_inside_i])"
   ]
  },
  {
   "cell_type": "markdown",
   "metadata": {},
   "source": [
    "Plot everything."
   ]
  },
  {
   "cell_type": "code",
   "execution_count": null,
   "metadata": {},
   "outputs": [],
   "source": [
    "# Create figure\n",
    "fig = plt.figure(figsize=(12, 4))\n",
    "\n",
    "# Create axes for points\n",
    "ax_points = fig.add_axes(rect=[0.05, 0.05, 0.3, 0.9])\n",
    "ax_points.set_xlim([-5., 5.])\n",
    "ax_points.set_ylim([-5., 5.])\n",
    "ax_points.set_aspect('equal')\n",
    "ax_points.grid()\n",
    "\n",
    "# Create axes for probabilities\n",
    "ax_probs = fig.add_axes(rect=[0.45, 0.05, 0.5, 0.9])\n",
    "ax_probs.set_xlim([0, len(y)])\n",
    "ax_probs.set_ylim([0, 1])\n",
    "ax_probs.grid()\n",
    "\n",
    "# Plot points\n",
    "ax_points.plot(y_inside[:, 0], y_inside[:, 1], '.', markersize=3)\n",
    "ax_points.plot(y_outside[:, 0], y_outside[:, 1], '.', color='C3', markersize=3)\n",
    "\n",
    "# Plot ellipse\n",
    "ax_points.add_patch(Ellipse(\n",
    "    xy=mu_y,\n",
    "    width=(2 * np.sqrt(alpha * lambda_1)),\n",
    "    height=(2 * np.sqrt(alpha * lambda_2)),\n",
    "    angle=np.rad2deg(np.arctan2(v_1[1], v_1[0])),\n",
    "    fill=False,\n",
    "    edgecolor='C1',\n",
    "    linewidth=2,\n",
    "))\n",
    "\n",
    "# Plot probabilities\n",
    "ax_probs.plot(num_points, fraction_in_ellipse, linewidth=2)\n",
    "ax_probs.plot(num_points, c * np.ones_like(num_points), '--')\n",
    "\n",
    "plt.show()"
   ]
  }
 ],
 "metadata": {
  "kernelspec": {
   "display_name": "sf-test",
   "language": "python",
   "name": "python3"
  },
  "language_info": {
   "codemirror_mode": {
    "name": "ipython",
    "version": 3
   },
   "file_extension": ".py",
   "mimetype": "text/x-python",
   "name": "python",
   "nbconvert_exporter": "python",
   "pygments_lexer": "ipython3",
   "version": "3.12.1"
  }
 },
 "nbformat": 4,
 "nbformat_minor": 2
}
