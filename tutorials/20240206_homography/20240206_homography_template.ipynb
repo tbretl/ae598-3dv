{
 "cells": [
  {
   "cell_type": "markdown",
   "metadata": {},
   "source": [
    "# Activity — Estimate Planar Homography"
   ]
  },
  {
   "cell_type": "markdown",
   "metadata": {},
   "source": [
    "Do all imports."
   ]
  },
  {
   "cell_type": "code",
   "execution_count": 1,
   "metadata": {},
   "outputs": [],
   "source": [
    "# For numerical methods\n",
    "import numpy as np\n",
    "\n",
    "# For comparison\n",
    "import cv2"
   ]
  },
  {
   "cell_type": "markdown",
   "metadata": {},
   "source": [
    "Create random number generator with a particular seed so we can reproduce results."
   ]
  },
  {
   "cell_type": "code",
   "execution_count": 2,
   "metadata": {},
   "outputs": [],
   "source": [
    "rng = np.random.default_rng(10)"
   ]
  },
  {
   "cell_type": "markdown",
   "metadata": {},
   "source": [
    "Sample a homography (i.e., a projective transformation)."
   ]
  },
  {
   "cell_type": "code",
   "execution_count": 3,
   "metadata": {},
   "outputs": [
    {
     "name": "stdout",
     "output_type": "stream",
     "text": [
      "[[-1.10333845 -0.72502464 -0.78180526]\n",
      " [ 0.26697586 -0.24858073  0.12648305]\n",
      " [ 0.84304257  0.85793655  0.47518364]]\n"
     ]
    }
   ],
   "source": [
    "H = rng.standard_normal(size=(3, 3))\n",
    "print(H)"
   ]
  },
  {
   "cell_type": "markdown",
   "metadata": {},
   "source": [
    "Sample points \n",
    "\n",
    "$$p_1, \\dotsc, p_n$$\n",
    "\n",
    "and\n",
    "\n",
    "$$q_1 \\sim H p_1, \\dotsc, q_n \\sim H p_n$$\n",
    "\n",
    "in homogeneous coordinates."
   ]
  },
  {
   "cell_type": "code",
   "execution_count": 4,
   "metadata": {},
   "outputs": [],
   "source": [
    "# Number of points\n",
    "n = 10\n",
    "\n",
    "# Create points one by one\n",
    "p = []\n",
    "q = []\n",
    "for i in range(n):\n",
    "    # Sample p_i (normalized)\n",
    "    p_i = np.concatenate([rng.standard_normal(size=2), [1.]])\n",
    "\n",
    "    # Sample q_i (arbitrarily scaled)\n",
    "    q_i = (H @ p_i) * rng.uniform(low=0.1, high=10.0)\n",
    "\n",
    "    # Append p_i and q_i to lists\n",
    "    p.append(p_i)\n",
    "    q.append(q_i)\n",
    "\n",
    "# Convert lists to numpy arrays\n",
    "p = np.array(p)\n",
    "q = np.array(q)"
   ]
  },
  {
   "cell_type": "markdown",
   "metadata": {},
   "source": [
    "Use OpenCV to find homography."
   ]
  },
  {
   "cell_type": "code",
   "execution_count": null,
   "metadata": {},
   "outputs": [],
   "source": [
    "H_opencv, mask_opencv = cv2.findHomography(p, q)\n",
    "print(H_opencv)"
   ]
  },
  {
   "cell_type": "markdown",
   "metadata": {},
   "source": [
    "What assertion would verify that this homography is the same as $H$?"
   ]
  },
  {
   "cell_type": "code",
   "execution_count": null,
   "metadata": {},
   "outputs": [],
   "source": [
    "# FIXME\n",
    "# assert(np.allclose( ... , ... ))"
   ]
  },
  {
   "cell_type": "markdown",
   "metadata": {},
   "source": [
    "Write your own function to find homography."
   ]
  },
  {
   "cell_type": "code",
   "execution_count": 5,
   "metadata": {},
   "outputs": [],
   "source": [
    "# FIXME\n",
    "def get_homography(p, q):\n",
    "    return np.zeros((3, 3))"
   ]
  },
  {
   "cell_type": "markdown",
   "metadata": {},
   "source": [
    "Apply your function to find homography."
   ]
  },
  {
   "cell_type": "code",
   "execution_count": null,
   "metadata": {},
   "outputs": [],
   "source": [
    "H = get_homography(p, q)"
   ]
  },
  {
   "cell_type": "markdown",
   "metadata": {},
   "source": [
    "What assertion would verify that this homography is the same as $H$?"
   ]
  },
  {
   "cell_type": "code",
   "execution_count": null,
   "metadata": {},
   "outputs": [],
   "source": [
    "# FIXME\n",
    "# assert(np.allclose( ... , ... ))"
   ]
  },
  {
   "cell_type": "markdown",
   "metadata": {},
   "source": [
    "**BONUS.** Modify your function to add normalization (see Chapter 4 of Hartley and Zisserman) and test your new function both with and without noise added to $q_1, \\dotsc, q_n$."
   ]
  }
 ],
 "metadata": {
  "kernelspec": {
   "display_name": "sf-test",
   "language": "python",
   "name": "python3"
  },
  "language_info": {
   "codemirror_mode": {
    "name": "ipython",
    "version": 3
   },
   "file_extension": ".py",
   "mimetype": "text/x-python",
   "name": "python",
   "nbconvert_exporter": "python",
   "pygments_lexer": "ipython3",
   "version": "3.12.1"
  }
 },
 "nbformat": 4,
 "nbformat_minor": 2
}
