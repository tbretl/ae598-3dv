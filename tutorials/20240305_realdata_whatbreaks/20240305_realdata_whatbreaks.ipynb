{
 "cells": [
  {
   "cell_type": "markdown",
   "metadata": {},
   "source": [
    "## Create dataset"
   ]
  },
  {
   "cell_type": "markdown",
   "metadata": {},
   "source": [
    "Do all imports."
   ]
  },
  {
   "cell_type": "code",
   "execution_count": null,
   "metadata": {},
   "outputs": [],
   "source": [
    "# For numerical methods\n",
    "import numpy as np\n",
    "\n",
    "# For image processing and visualization of results\n",
    "import cv2\n",
    "import matplotlib.pyplot as plt\n",
    "from matplotlib.patches import ConnectionPatch"
   ]
  },
  {
   "cell_type": "markdown",
   "metadata": {},
   "source": [
    "Function to print things nicely."
   ]
  },
  {
   "cell_type": "code",
   "execution_count": null,
   "metadata": {},
   "outputs": [],
   "source": [
    "def myprint(M):\n",
    "    if M.shape:\n",
    "        with np.printoptions(linewidth=150, formatter={'float': lambda x: f'{x:10.4f}'}):\n",
    "            print(M)\n",
    "    else:\n",
    "        print(f'{M:10.4f}')"
   ]
  },
  {
   "cell_type": "markdown",
   "metadata": {},
   "source": [
    "Load two images from video."
   ]
  },
  {
   "cell_type": "code",
   "execution_count": null,
   "metadata": {},
   "outputs": [],
   "source": [
    "# Specify filename\n",
    "video_filename = 'video.MOV'\n",
    "\n",
    "# Create a video reader\n",
    "video_src = cv2.VideoCapture(video_filename)\n",
    "\n",
    "# Say what frames we want to read\n",
    "# - index of first frame\n",
    "i_frame_1 = 0\n",
    "# - index of second frame\n",
    "i_frame_2 = 30\n",
    "\n",
    "# Read first frame\n",
    "video_src.set(cv2.CAP_PROP_POS_FRAMES, i_frame_1)\n",
    "success, frame = video_src.read()\n",
    "assert(success)\n",
    "img1 = cv2.cvtColor(frame, cv2.COLOR_BGR2GRAY)\n",
    "\n",
    "# Read second frame\n",
    "video_src.set(cv2.CAP_PROP_POS_FRAMES, i_frame_2)\n",
    "success, frame = video_src.read()\n",
    "assert(success)\n",
    "img2 = cv2.cvtColor(frame, cv2.COLOR_BGR2GRAY)"
   ]
  },
  {
   "cell_type": "markdown",
   "metadata": {},
   "source": [
    "Detection."
   ]
  },
  {
   "cell_type": "code",
   "execution_count": null,
   "metadata": {},
   "outputs": [],
   "source": [
    "# Create a SIFT feature detector\n",
    "sift = cv2.SIFT_create()\n",
    "\n",
    "# Apply detector to find keypoints (pts) and descriptors (desc) in each image\n",
    "pts1, desc1 = sift.detectAndCompute(image=img1, mask=None)\n",
    "pts2, desc2 = sift.detectAndCompute(image=img2, mask=None)"
   ]
  },
  {
   "cell_type": "markdown",
   "metadata": {},
   "source": [
    "Matching."
   ]
  },
  {
   "cell_type": "code",
   "execution_count": null,
   "metadata": {},
   "outputs": [],
   "source": [
    "# Create a brute-force matcher\n",
    "bf = cv2.BFMatcher(\n",
    "    normType=cv2.NORM_L2,\n",
    "    crossCheck=False,       # <-- IMPORTANT - must be False for kNN matching\n",
    ")\n",
    "\n",
    "# Function to get good matches with ratio test\n",
    "def get_good_matches(descA, descB, threshold=0.5):\n",
    "    # Find the two best matches between descriptors\n",
    "    matches = bf.knnMatch(descA, descB, k=2)\n",
    "\n",
    "    # Find the subset of good matches\n",
    "    good_matches = []\n",
    "    for m, n in matches:\n",
    "        if m.distance / n.distance < threshold:\n",
    "            good_matches.append(m)\n",
    "    \n",
    "    # Return good matches, sorted by distance (smallest first)\n",
    "    return sorted(good_matches, key = lambda m: m.distance)\n",
    "\n",
    "# Match the two images\n",
    "matches = get_good_matches(desc1, desc2)\n",
    "print(f'found {len(matches)} good matches')"
   ]
  },
  {
   "cell_type": "markdown",
   "metadata": {},
   "source": [
    "Visualize all good matches."
   ]
  },
  {
   "cell_type": "code",
   "execution_count": null,
   "metadata": {},
   "outputs": [],
   "source": [
    "# Create figure\n",
    "fig, (ax1, ax2) = plt.subplots(1, 2, figsize=(15, 10))\n",
    "\n",
    "# Show images\n",
    "ax1.imshow(img1, cmap='gray')\n",
    "ax2.imshow(img2, cmap='gray')\n",
    "\n",
    "# Show matches\n",
    "for m in matches:\n",
    "    # - Get location of keypoints\n",
    "    p1 = pts1[m.queryIdx].pt\n",
    "    p2 = pts2[m.trainIdx].pt\n",
    "    # - Draw line connecting keypoint in first image with keypoint in second image\n",
    "    fig.add_artist(\n",
    "        ConnectionPatch(\n",
    "            p1, p2, \n",
    "            'data', 'data',\n",
    "            axesA=ax1, axesB=ax2,\\\n",
    "            color='red',\n",
    "            connectionstyle='arc3, rad=0.',\n",
    "            linewidth=0.1,\n",
    "        )\n",
    "    )\n",
    "    # - Draw red dot at each keypoint\n",
    "    ax1.plot(p1[0], p1[1], 'r.', markersize=2)\n",
    "    ax2.plot(p2[0], p2[1], 'r.', markersize=2)\n",
    "\n",
    "plt.show()"
   ]
  },
  {
   "cell_type": "markdown",
   "metadata": {},
   "source": [
    "Define camera matrix."
   ]
  },
  {
   "cell_type": "code",
   "execution_count": null,
   "metadata": {},
   "outputs": [],
   "source": [
    "K = np.array([[1565.7702703272157, 0.0, 964.2389356041999], [0.0, 1562.3561924508267, 537.4247202074102], [0.0, 0.0, 1.0]])"
   ]
  },
  {
   "cell_type": "markdown",
   "metadata": {},
   "source": [
    "Get image coordinates of matches."
   ]
  },
  {
   "cell_type": "code",
   "execution_count": null,
   "metadata": {},
   "outputs": [],
   "source": [
    "# Create a, b\n",
    "a = []\n",
    "b = []\n",
    "for m in matches:\n",
    "    a.append(pts1[m.queryIdx].pt)\n",
    "    b.append(pts2[m.trainIdx].pt)\n",
    "a = np.array(a)\n",
    "b = np.array(b)"
   ]
  },
  {
   "cell_type": "markdown",
   "metadata": {},
   "source": [
    "## Try two-view reconstruction"
   ]
  },
  {
   "cell_type": "markdown",
   "metadata": {},
   "source": [
    "Do the following things:\n",
    "\n",
    "* Apply your own code for two-view reconstruction and confirm failure.\n",
    "* Apply code from OpenCV for two-view reconstruction and confirm success.\n",
    "* List any reason you can think of for why your code fails and OpenCV code succeeds.\n",
    "* Change your code so that it at least runs without error and produces a result (how different is that result from OpenCV?).\n",
    "* Change your code so that it produces results that are more consistent with those from OpenCV."
   ]
  },
  {
   "cell_type": "markdown",
   "metadata": {},
   "source": []
  }
 ],
 "metadata": {
  "kernelspec": {
   "display_name": "sf-test",
   "language": "python",
   "name": "python3"
  },
  "language_info": {
   "codemirror_mode": {
    "name": "ipython",
    "version": 3
   },
   "file_extension": ".py",
   "mimetype": "text/x-python",
   "name": "python",
   "nbconvert_exporter": "python",
   "pygments_lexer": "ipython3",
   "version": "3.12.1"
  }
 },
 "nbformat": 4,
 "nbformat_minor": 2
}
