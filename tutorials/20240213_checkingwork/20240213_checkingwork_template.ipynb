{
 "cells": [
  {
   "cell_type": "markdown",
   "metadata": {},
   "source": [
    "# Activity — Check an Implementation, Find More Information, Ask Questions and Provide Answers"
   ]
  },
  {
   "cell_type": "markdown",
   "metadata": {},
   "source": [
    "Do all imports."
   ]
  },
  {
   "cell_type": "code",
   "execution_count": null,
   "metadata": {},
   "outputs": [],
   "source": [
    "import numpy as np"
   ]
  },
  {
   "cell_type": "markdown",
   "metadata": {},
   "source": [
    "Create random number generator with a particular seed so we can reproduce results."
   ]
  },
  {
   "cell_type": "code",
   "execution_count": null,
   "metadata": {},
   "outputs": [],
   "source": [
    "rng = np.random.default_rng(0)"
   ]
  },
  {
   "cell_type": "markdown",
   "metadata": {},
   "source": [
    "#### Check an implementation"
   ]
  },
  {
   "cell_type": "markdown",
   "metadata": {},
   "source": [
    "Suppose you have a function `get_matB_from_vecb` that is supposed to return the symmetric matrix\n",
    "\n",
    "$$B = \\begin{bmatrix} b_1 & b_4 & b_6 \\\\ b_4 & b_2 & b_5 \\\\ b_6 & b_5 & b_3 \\end{bmatrix}$$\n",
    "\n",
    "given a vector\n",
    "\n",
    "$$b = \\begin{bmatrix} b_1 \\\\ \\vdots \\\\ b_6 \\end{bmatrix}$$\n",
    "\n",
    "of its unique elements. Suppose you also have a function `get_vecb_from_matB` that is supposed to do the opposite, returning the vector $b$ given the symmetric matrix $B$."
   ]
  },
  {
   "cell_type": "code",
   "execution_count": null,
   "metadata": {},
   "outputs": [],
   "source": [
    "def get_matB_from_vecb(b):\n",
    "    return np.array([[b[0], b[3], b[5]], [b[3], b[1], b[4]], [b[5], b[4], b[2]]])\n",
    "\n",
    "def get_vecb_from_matB(B):\n",
    "    return np.array([B[0, 0], B[1, 1], B[2, 1], B[0, 1], B[1, 2], B[0, 2]])"
   ]
  },
  {
   "cell_type": "markdown",
   "metadata": {},
   "source": [
    "How might you check that these two functions are implemented correctly?\n",
    "\n",
    "* List (e.g., in this notebook in a markdown cell) as many different ways of checking for a correct implementation as you can think of.\n",
    "* Choose one of your checks that can be **automated** and apply it.\n",
    "* If your check tells you that a function was implemented incorrectly, fix that function."
   ]
  },
  {
   "cell_type": "code",
   "execution_count": null,
   "metadata": {},
   "outputs": [],
   "source": [
    "# FIXME"
   ]
  },
  {
   "cell_type": "markdown",
   "metadata": {},
   "source": [
    "Suppose you have an implementation of the function `get_m` that, given $a, c \\in \\mathbb{R}^3$, returns the vector $m \\in \\mathbb{R}^3$ for which\n",
    "\n",
    "$$a^T B c = m^T b$$\n",
    "\n",
    "where\n",
    "\n",
    "$$b = \\begin{bmatrix} b_1 \\\\ \\vdots \\\\ b_6 \\end{bmatrix}$$\n",
    "\n",
    "contains the unique elements of the symmetric matrix\n",
    "\n",
    "$$B = \\begin{bmatrix} b_1 & b_4 & b_6 \\\\ b_4 & b_2 & b_5 \\\\ b_6 & b_5 & b_3 \\end{bmatrix}.$$"
   ]
  },
  {
   "cell_type": "code",
   "execution_count": null,
   "metadata": {},
   "outputs": [],
   "source": [
    "def get_m(a, c):\n",
    "    return np.array([a[0]*c[0],a[1]*c[1],a[2]*c[2],a[0]*c[1]+a[1]*c[0],a[1]*c[2]+a[2]*c[2],a[2]*c[0]+a[0]*c[2]])"
   ]
  },
  {
   "cell_type": "markdown",
   "metadata": {},
   "source": [
    "How might you check that this function is implemented correctly?\n",
    "\n",
    "* List (e.g., in this notebook in a markdown cell) as many different ways of checking for a correct implementation as you can think of.\n",
    "* Choose one of your checks that can be **automated** and apply it.\n",
    "* If your check tells you that the function was implemented incorrectly, fix the function."
   ]
  },
  {
   "cell_type": "code",
   "execution_count": null,
   "metadata": {},
   "outputs": [],
   "source": [
    "# FIXME"
   ]
  },
  {
   "cell_type": "markdown",
   "metadata": {},
   "source": [
    "#### Find more information"
   ]
  },
  {
   "cell_type": "markdown",
   "metadata": {},
   "source": [
    "Search for `opencv camera calibration python`. Open the camera calibration tutorial that you find. Paste the URL here (with a descriptive name of the page):\n",
    "* [name of camera calibration tutorial](some-url)"
   ]
  },
  {
   "cell_type": "markdown",
   "metadata": {},
   "source": [
    "Scroll down the page until you find the actual function that does camera calibration. The name of this function should be a hyperlink. Click on it. Paste the URL of the page it links to here (with a descriptive name of the function):\n",
    "* [name of function that does camera calibration](some-url)"
   ]
  },
  {
   "cell_type": "markdown",
   "metadata": {},
   "source": [
    "Read at the documentation of this function (which may look a little strange, because it's documentation for the C++ implementation and not for the python interface to this function). Find where it says what algorithm is being implemented. There should be two citations (one to a paper and one to a software library), each a hyperlink. Find the citation that is to a paper, and click on the corresponding hyperlink. Paste the URL of the page it links to here (with the full citation of the paper):\n",
    "* [full citation of paper](some-url)"
   ]
  },
  {
   "cell_type": "markdown",
   "metadata": {},
   "source": [
    "Go to the [university library website](https://www.library.illinois.edu). Click on \"Articles\" under \"Search for.\" Put the name of the article on which OpenCV's implementation of camera calibration is based into the search field and click \"Search.\" Find the paper and click \"Get Fulltext.\" Paste the URL of the page with the paper here (with the name of the paper):\n",
    "* [name of paper](some-url)\n"
   ]
  },
  {
   "cell_type": "markdown",
   "metadata": {},
   "source": [
    "Download the PDF of the paper. Answer the following questions:\n",
    "* What notation do they use for the camera matrix that we call $K$?\n",
    "* What notation do they use for the coordinates of points on the tag grid?\n",
    "* What notation do they use for the coordinates of points in the image?\n",
    "* What notation do they use for the columns of $R_W^C$ and for $p_W^C$? (What are these objects? Write this in words.)\n",
    "* How are the intrinsic parameters found in the paper? Same or different from us?\n",
    "* How are the extrinsic parameters found in the paper? Same or different from us?"
   ]
  },
  {
   "cell_type": "markdown",
   "metadata": {},
   "source": [
    "#### Questions and answers"
   ]
  },
  {
   "cell_type": "markdown",
   "metadata": {},
   "source": [
    "Do the following things:\n",
    "\n",
    "* Open discord.\n",
    "* Find a question asked by somebody else either in the \"homework\" or \"activities\" channel.\n",
    "* Turn that question into a thread.\n",
    "* Provide a constructive response to the question."
   ]
  },
  {
   "cell_type": "markdown",
   "metadata": {},
   "source": []
  }
 ],
 "metadata": {
  "kernelspec": {
   "display_name": "sf-test",
   "language": "python",
   "name": "python3"
  },
  "language_info": {
   "codemirror_mode": {
    "name": "ipython",
    "version": 3
   },
   "file_extension": ".py",
   "mimetype": "text/x-python",
   "name": "python",
   "nbconvert_exporter": "python",
   "pygments_lexer": "ipython3",
   "version": "3.12.1"
  }
 },
 "nbformat": 4,
 "nbformat_minor": 2
}
