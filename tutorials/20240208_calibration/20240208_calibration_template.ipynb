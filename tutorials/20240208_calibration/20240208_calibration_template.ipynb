{
 "cells": [
  {
   "cell_type": "markdown",
   "metadata": {},
   "source": [
    "# Activity — Estimate Intrinsic and Extrinsic Parameters"
   ]
  },
  {
   "cell_type": "markdown",
   "metadata": {},
   "source": [
    "Do all imports."
   ]
  },
  {
   "cell_type": "code",
   "execution_count": null,
   "metadata": {},
   "outputs": [],
   "source": [
    "# For numerical methods\n",
    "import numpy as np\n",
    "from scipy.spatial.transform import Rotation\n",
    "\n",
    "# For comparison\n",
    "import cv2"
   ]
  },
  {
   "cell_type": "markdown",
   "metadata": {},
   "source": [
    "Create random number generator with a particular seed so we can reproduce results."
   ]
  },
  {
   "cell_type": "code",
   "execution_count": null,
   "metadata": {},
   "outputs": [],
   "source": [
    "rng = np.random.default_rng(20)"
   ]
  },
  {
   "cell_type": "markdown",
   "metadata": {},
   "source": [
    "Define a function to print things nicely."
   ]
  },
  {
   "cell_type": "code",
   "execution_count": null,
   "metadata": {},
   "outputs": [],
   "source": [
    "def myprint(M):\n",
    "    if M.shape:\n",
    "        with np.printoptions(linewidth=150, formatter={'float': lambda x: f'{x:10.4f}'}):\n",
    "            print(M)\n",
    "    else:\n",
    "        print(f'{M:10.4f}')"
   ]
  },
  {
   "cell_type": "markdown",
   "metadata": {},
   "source": [
    "#### Create dataset"
   ]
  },
  {
   "cell_type": "markdown",
   "metadata": {},
   "source": [
    "Choose intrinsic parameters."
   ]
  },
  {
   "cell_type": "code",
   "execution_count": null,
   "metadata": {},
   "outputs": [],
   "source": [
    "K_true = np.array([\n",
    "    [150., 0., 100.],\n",
    "    [0., 160., 75.],\n",
    "    [0., 0., 1.],\n",
    "])"
   ]
  },
  {
   "cell_type": "markdown",
   "metadata": {},
   "source": [
    "Choose extrinsic parameters (these are poses **of the camera in the world frame**)."
   ]
  },
  {
   "cell_type": "code",
   "execution_count": null,
   "metadata": {},
   "outputs": [],
   "source": [
    "poses_true = []\n",
    "\n",
    "R = np.eye(3)\n",
    "p = np.array([0., 0., 1.])\n",
    "poses_true.append(\n",
    "    np.row_stack([\n",
    "        np.column_stack([R.T, -R.T @ p]),\n",
    "        np.array([0., 0., 0., 1.]),\n",
    "    ])\n",
    ")\n",
    "\n",
    "R = Rotation.from_rotvec((np.pi / 6) * np.array([1., 0., 0.])).as_matrix()\n",
    "p = np.array([0.1, 0., 0.9])\n",
    "poses_true.append(\n",
    "    np.row_stack([\n",
    "        np.column_stack([R.T, -R.T @ p]),\n",
    "        np.array([0., 0., 0., 1.]),\n",
    "    ])\n",
    ")\n",
    "\n",
    "R = Rotation.from_rotvec((np.pi / 6) * np.array([0., 1., 0.])).as_matrix()\n",
    "p = np.array([0., 0.1, 1.1])\n",
    "poses_true.append(\n",
    "    np.row_stack([\n",
    "        np.column_stack([R.T, -R.T @ p]),\n",
    "        np.array([0., 0., 0., 1.]),\n",
    "    ])\n",
    ")\n",
    "\n",
    "R = Rotation.from_rotvec((np.pi / 3) * np.array([0., 0., 1.])).as_matrix()\n",
    "p = np.array([-0.1, 0.1, 1.])\n",
    "poses_true.append(\n",
    "    np.row_stack([\n",
    "        np.column_stack([R.T, -R.T @ p]),\n",
    "        np.array([0., 0., 0., 1.]),\n",
    "    ])\n",
    ")"
   ]
  },
  {
   "cell_type": "markdown",
   "metadata": {},
   "source": [
    "Compute homographies (scaled uniformly at random)."
   ]
  },
  {
   "cell_type": "code",
   "execution_count": null,
   "metadata": {},
   "outputs": [],
   "source": [
    "homographies = []\n",
    "for pose in poses_true:\n",
    "    R_inC_ofW = pose[0:3, 0:3].T\n",
    "    p_inC_ofW = - pose[0:3, 0:3].T @ pose[0:3, 3]\n",
    "    x_inC_ofW = R_inC_ofW[:, 0]\n",
    "    y_inC_ofW = R_inC_ofW[:, 1]\n",
    "    homographies.append(rng.uniform(low=0.1, high=10.) * K_true @ np.column_stack([x_inC_ofW, y_inC_ofW, p_inC_ofW]))\n",
    "homographies = np.array(homographies)"
   ]
  },
  {
   "cell_type": "markdown",
   "metadata": {},
   "source": [
    "#### Estimate intrinsic parameters"
   ]
  },
  {
   "cell_type": "markdown",
   "metadata": {},
   "source": [
    "Suppose\n",
    "\n",
    "$$b = \\begin{bmatrix} b_1 \\\\ \\vdots \\\\ b_6 \\end{bmatrix}$$\n",
    "\n",
    "contains the unique elements of the symmetric matrix\n",
    "\n",
    "$$B = \\begin{bmatrix} b_1 & b_4 & b_6 \\\\ b_4 & b_2 & b_5 \\\\ b_6 & b_5 & b_3 \\end{bmatrix}.$$\n",
    "\n",
    "Given $a, c \\in \\mathbb{R}^3$, define a function that returns the vector $m \\in \\mathbb{R}^3$ for which\n",
    "\n",
    "$$a^T B c = m^T b.$$"
   ]
  },
  {
   "cell_type": "code",
   "execution_count": null,
   "metadata": {},
   "outputs": [],
   "source": [
    "# FIXME\n",
    "def get_m(a, c):\n",
    "    assert(a.shape == (3,))\n",
    "    assert(c.shape == (3,))\n",
    "    return np.zeros(6)"
   ]
  },
  {
   "cell_type": "markdown",
   "metadata": {},
   "source": [
    "Define a function that estimates the camera matrix $K$ from a list of homographies $H_1, \\dotsc, H_n$."
   ]
  },
  {
   "cell_type": "code",
   "execution_count": null,
   "metadata": {},
   "outputs": [],
   "source": [
    "# FIXME\n",
    "def get_intrinsic_parameters(homographies):\n",
    "    return np.eye(3)"
   ]
  },
  {
   "cell_type": "markdown",
   "metadata": {},
   "source": [
    "Apply this function to find the intrinsic parameters."
   ]
  },
  {
   "cell_type": "code",
   "execution_count": null,
   "metadata": {},
   "outputs": [],
   "source": [
    "K = get_intrinsic_parameters(homographies)\n",
    "\n",
    "myprint(K)\n",
    "assert(np.allclose(K, K_true))"
   ]
  },
  {
   "cell_type": "markdown",
   "metadata": {},
   "source": [
    "#### Estimate extrinsic parameters"
   ]
  },
  {
   "cell_type": "markdown",
   "metadata": {},
   "source": [
    "Define a function that implements the wedge operator."
   ]
  },
  {
   "cell_type": "code",
   "execution_count": null,
   "metadata": {},
   "outputs": [],
   "source": [
    "def skew(v):\n",
    "    assert(type(v) == np.ndarray)\n",
    "    assert(v.shape == (3,))\n",
    "    return np.array([[0., -v[2], v[1]],\n",
    "                     [v[2], 0., -v[0]],\n",
    "                     [-v[1], v[0], 0.]])"
   ]
  },
  {
   "cell_type": "markdown",
   "metadata": {},
   "source": [
    "Define a function that estimates the pose $R_C^W$ that corresponds to each homography."
   ]
  },
  {
   "cell_type": "code",
   "execution_count": null,
   "metadata": {},
   "outputs": [],
   "source": [
    "# FIXME\n",
    "def get_extrinsic_parameters(homographies, K):\n",
    "    poses = []\n",
    "    for H in homographies:\n",
    "        poses.append(np.array([\n",
    "            [1., 0., 0., 0.],\n",
    "            [0., 1., 0., 0.],\n",
    "            [0., 0., 1., 0.],\n",
    "            [0., 0., 0., 1.],\n",
    "        ]))\n",
    "    \n",
    "    # Return all poses\n",
    "    return np.array(poses)"
   ]
  },
  {
   "cell_type": "markdown",
   "metadata": {},
   "source": [
    "Apply this function to find extrinsic parameters."
   ]
  },
  {
   "cell_type": "code",
   "execution_count": null,
   "metadata": {},
   "outputs": [],
   "source": [
    "poses = get_extrinsic_parameters(homographies, K)\n",
    "\n",
    "for pose, pose_true in zip(poses, poses_true):\n",
    "    assert(np.allclose(pose, pose_true))"
   ]
  }
 ],
 "metadata": {
  "kernelspec": {
   "display_name": "sf-test",
   "language": "python",
   "name": "python3"
  },
  "language_info": {
   "codemirror_mode": {
    "name": "ipython",
    "version": 3
   },
   "file_extension": ".py",
   "mimetype": "text/x-python",
   "name": "python",
   "nbconvert_exporter": "python",
   "pygments_lexer": "ipython3",
   "version": "3.12.1"
  }
 },
 "nbformat": 4,
 "nbformat_minor": 2
}
