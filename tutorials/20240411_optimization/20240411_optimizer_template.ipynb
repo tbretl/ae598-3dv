{
 "cells": [
  {
   "cell_type": "markdown",
   "metadata": {},
   "source": [
    "# Optimization from scratch"
   ]
  },
  {
   "cell_type": "code",
   "execution_count": null,
   "metadata": {},
   "outputs": [],
   "source": [
    "# Import symforce for the sole purpose of setting the value\n",
    "# of epsilon, which must be done first and exactly once.\n",
    "import symforce\n",
    "symforce.set_epsilon_to_symbol()\n",
    "\n",
    "import symforce.symbolic as sf\n",
    "from symforce.values import Values\n",
    "from symforce.opt.factor import Factor\n",
    "from symforce.opt.optimizer import Optimizer\n",
    "from symforce.opt.noise_models import PseudoHuberNoiseModel\n",
    "from symforce.opt.noise_models import BarronNoiseModel\n",
    "import sym\n",
    "\n",
    "from pathlib import Path\n",
    "import numpy as np\n",
    "import secrets\n",
    "import json"
   ]
  },
  {
   "cell_type": "code",
   "execution_count": null,
   "metadata": {},
   "outputs": [],
   "source": [
    "with open('data.json', 'r') as f:\n",
    "    data = json.load(f)\n",
    "\n",
    "for k in data.keys():\n",
    "    data[k] = np.array(data[k])\n",
    "\n",
    "K = data['K']"
   ]
  },
  {
   "cell_type": "code",
   "execution_count": null,
   "metadata": {},
   "outputs": [],
   "source": [
    "seed = secrets.randbits(32)\n",
    "print(f'seeding RNG with {seed}')\n",
    "rng = np.random.default_rng(seed)"
   ]
  },
  {
   "cell_type": "markdown",
   "metadata": {},
   "source": [
    "## Triangulation (SymForce)"
   ]
  },
  {
   "cell_type": "code",
   "execution_count": null,
   "metadata": {},
   "outputs": [],
   "source": [
    "def sf_projection(\n",
    "    T_inC_ofW: sf.Pose3,\n",
    "    p_inW: sf.V3,\n",
    "    fx: sf.Scalar,\n",
    "    fy: sf.Scalar,\n",
    "    cx: sf.Scalar,\n",
    "    cy: sf.Scalar,\n",
    "    epsilon: sf.Scalar,\n",
    ") -> sf.V2:\n",
    "    \"\"\"\n",
    "    Symbolic function that projects a point into an image. (If the depth\n",
    "    of this point is non-positive, then the projection will be pushed far\n",
    "    away from the image center.)\n",
    "    \"\"\"\n",
    "    p_inC = T_inC_ofW * p_inW\n",
    "    z = sf.Max(p_inC[2], epsilon)   # <-- if depth is non-positive, then projection\n",
    "                                    #     will be pushed far away from image center\n",
    "    return sf.V2(\n",
    "        fx * (p_inC[0] / z) + cx,\n",
    "        fy * (p_inC[1] / z) + cy,\n",
    "    )\n",
    "\n",
    "def sf_projection_residual(\n",
    "    T_inC_ofW: sf.Pose3,\n",
    "    p_inW: sf.V3,\n",
    "    q: sf.V2,\n",
    "    fx: sf.Scalar,\n",
    "    fy: sf.Scalar,\n",
    "    cx: sf.Scalar,\n",
    "    cy: sf.Scalar,\n",
    "    epsilon: sf.Scalar,  \n",
    ") -> sf.V2:\n",
    "    \"\"\"\n",
    "    Symbolic function that computes the difference between a projected point\n",
    "    and an image point.\n",
    "    \"\"\"\n",
    "    q_proj = sf_projection(T_inC_ofW, p_inW, fx, fy, cx, cy, epsilon)\n",
    "    return sf.V2(q_proj - q)"
   ]
  },
  {
   "cell_type": "code",
   "execution_count": null,
   "metadata": {},
   "outputs": [],
   "source": [
    "# Create data structures\n",
    "initial_values = Values(\n",
    "    fx=K[0, 0],\n",
    "    fy=K[1, 1],\n",
    "    cx=K[0, 2],\n",
    "    cy=K[1, 2],\n",
    "    T_inB0_ofA=sym.Pose3(\n",
    "        R=sym.Rot3.from_rotation_matrix(data['R_inB0_ofA']),\n",
    "        t=data['p_inB0_ofA'],\n",
    "    ),\n",
    "    T_inB1_ofA=sym.Pose3(\n",
    "        R=sym.Rot3.from_rotation_matrix(data['R_inB1_ofA']),\n",
    "        t=data['p_inB1_ofA'],\n",
    "    ),\n",
    "    p_inA=data['p_inA'] + 0.5 * rng.standard_normal(size=3),\n",
    "    b_0=data['b_0'],\n",
    "    b_1=data['b_1'],\n",
    "    epsilon=sym.epsilon,\n",
    ")\n",
    "optimized_keys = ['p_inA']\n",
    "factors = [\n",
    "    Factor(\n",
    "        residual=sf_projection_residual,\n",
    "        keys=[\n",
    "            f'T_inB0_ofA',\n",
    "            f'p_inA',\n",
    "            f'b_0',\n",
    "            'fx',\n",
    "            'fy',\n",
    "            'cx',\n",
    "            'cy',\n",
    "            'epsilon',\n",
    "        ],\n",
    "    ),\n",
    "    Factor(\n",
    "        residual=sf_projection_residual,\n",
    "        keys=[\n",
    "            f'T_inB1_ofA',\n",
    "            f'p_inA',\n",
    "            f'b_1',\n",
    "            'fx',\n",
    "            'fy',\n",
    "            'cx',\n",
    "            'cy',\n",
    "            'epsilon',\n",
    "        ],\n",
    "    ),\n",
    "]\n",
    "   \n",
    "# Create optimizer\n",
    "optimizer = Optimizer(\n",
    "    factors=factors,\n",
    "    optimized_keys=optimized_keys,\n",
    "    debug_stats=True,\n",
    "    params=Optimizer.Params(\n",
    "        iterations=100,\n",
    "        use_diagonal_damping=True,\n",
    "        lambda_down_factor=0.1,\n",
    "        lambda_up_factor=5.,\n",
    "        early_exit_min_reduction=1e-8,\n",
    "    ),\n",
    ")"
   ]
  },
  {
   "cell_type": "code",
   "execution_count": null,
   "metadata": {},
   "outputs": [],
   "source": [
    "result = optimizer.optimize(initial_values)\n",
    "assert(result.status == symforce.opt.optimizer.Optimizer.Status.SUCCESS)"
   ]
  },
  {
   "cell_type": "markdown",
   "metadata": {},
   "source": [
    "## Triangulation (from scratch)"
   ]
  },
  {
   "cell_type": "code",
   "execution_count": null,
   "metadata": {},
   "outputs": [],
   "source": [
    "mu = 0.\n",
    "p_inA = initial_values['p_inA'].copy()\n",
    "iter = 0\n",
    "\n",
    "e_prev = get_e(p_inA)\n",
    "while iter < 100:\n",
    "\n",
    "    # Linearize\n",
    "    # ...\n",
    "\n",
    "    # Get the step u\n",
    "    # ...\n",
    "\n",
    "    # Get e_new and rel_reduction\n",
    "    # ...\n",
    "    \n",
    "    # Show current status\n",
    "    print(f'{iter:5d} : {e_prev:11.4e}, {e_new:11.4e} : {rel_reduction:11.4e}')\n",
    "    \n",
    "    # Take the step (update p_inA and set e_prev = e_new)\n",
    "    # ...\n",
    "\n",
    "    # Update iteration\n",
    "    iter += 1\n",
    "\n",
    "    # Stop if rel_reduction is small enough\n",
    "    if (rel_reduction > 0) and (rel_reduction < 1e-10):\n",
    "        break"
   ]
  }
 ],
 "metadata": {
  "kernelspec": {
   "display_name": "sf-test",
   "language": "python",
   "name": "python3"
  },
  "language_info": {
   "codemirror_mode": {
    "name": "ipython",
    "version": 3
   },
   "file_extension": ".py",
   "mimetype": "text/x-python",
   "name": "python",
   "nbconvert_exporter": "python",
   "pygments_lexer": "ipython3",
   "version": "3.12.1"
  }
 },
 "nbformat": 4,
 "nbformat_minor": 2
}
