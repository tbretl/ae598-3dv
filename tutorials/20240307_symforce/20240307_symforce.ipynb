{
 "cells": [
  {
   "cell_type": "markdown",
   "metadata": {},
   "source": [
    "## Create dataset"
   ]
  },
  {
   "cell_type": "markdown",
   "metadata": {},
   "source": [
    "Do all imports."
   ]
  },
  {
   "cell_type": "code",
   "execution_count": null,
   "metadata": {},
   "outputs": [],
   "source": [
    "# For input/output\n",
    "from pathlib import Path\n",
    "\n",
    "# For numerical methods\n",
    "import numpy as np\n",
    "\n",
    "# For image processing and visualization of results\n",
    "import cv2\n",
    "import matplotlib.pyplot as plt\n",
    "from matplotlib.patches import ConnectionPatch\n",
    "\n",
    "# For optimization with symforce\n",
    "import symforce\n",
    "symforce.set_epsilon_to_symbol()\n",
    "import symforce.symbolic as sf\n",
    "from symforce.values import Values\n",
    "from symforce.opt.factor import Factor\n",
    "from symforce.opt.optimizer import Optimizer\n",
    "import sym"
   ]
  },
  {
   "cell_type": "markdown",
   "metadata": {},
   "source": [
    "Function to print things nicely."
   ]
  },
  {
   "cell_type": "code",
   "execution_count": null,
   "metadata": {},
   "outputs": [],
   "source": [
    "def myprint(M):\n",
    "    if M.shape:\n",
    "        with np.printoptions(linewidth=150, formatter={'float': lambda x: f'{x:10.4f}'}):\n",
    "            print(M)\n",
    "    else:\n",
    "        print(f'{M:10.4f}')"
   ]
  },
  {
   "cell_type": "markdown",
   "metadata": {},
   "source": [
    "Function to compute projection error."
   ]
  },
  {
   "cell_type": "code",
   "execution_count": null,
   "metadata": {},
   "outputs": [],
   "source": [
    "def apply_transform(R_inB_ofA, p_inB_ofA, p_inA):\n",
    "    p_inB = np.row_stack([\n",
    "        (R_inB_ofA @ p_inA_i + p_inB_ofA) for p_inA_i in p_inA\n",
    "    ])\n",
    "    return p_inB\n",
    "\n",
    "def project(K, R_inB_ofA, p_inB_ofA, p_inA):\n",
    "    p_inB = apply_transform(R_inB_ofA, p_inB_ofA, p_inA)\n",
    "    if not np.all(p_inB[:, 2] > 0):\n",
    "        print('WARNING: non-positive depths')\n",
    "    q = np.row_stack([K @ p_inB_i / p_inB_i[2] for p_inB_i in p_inB])\n",
    "    return q[:, 0:2]\n",
    "\n",
    "def projection_error(K, R_inB_ofA, p_inB_ofA, p_inA, b):\n",
    "    b_pred = project(K, R_inB_ofA, p_inB_ofA, p_inA)\n",
    "    return np.linalg.norm(b_pred - b, axis=1)"
   ]
  },
  {
   "cell_type": "markdown",
   "metadata": {},
   "source": [
    "Load two images from video."
   ]
  },
  {
   "cell_type": "code",
   "execution_count": null,
   "metadata": {},
   "outputs": [],
   "source": [
    "# Specify filename\n",
    "video_filename = Path('../20240305_realdata_whatbreaks/video.MOV')\n",
    "\n",
    "# Create a video reader\n",
    "video_src = cv2.VideoCapture(str(video_filename))\n",
    "\n",
    "# Say what frames we want to read\n",
    "# - index of first frame\n",
    "i_frame_1 = 0\n",
    "# - index of second frame\n",
    "i_frame_2 = 30\n",
    "\n",
    "# Read first frame\n",
    "video_src.set(cv2.CAP_PROP_POS_FRAMES, i_frame_1)\n",
    "success, frame = video_src.read()\n",
    "assert(success)\n",
    "img1 = cv2.cvtColor(frame, cv2.COLOR_BGR2GRAY)\n",
    "\n",
    "# Read second frame\n",
    "video_src.set(cv2.CAP_PROP_POS_FRAMES, i_frame_2)\n",
    "success, frame = video_src.read()\n",
    "assert(success)\n",
    "img2 = cv2.cvtColor(frame, cv2.COLOR_BGR2GRAY)"
   ]
  },
  {
   "cell_type": "markdown",
   "metadata": {},
   "source": [
    "Detection."
   ]
  },
  {
   "cell_type": "code",
   "execution_count": null,
   "metadata": {},
   "outputs": [],
   "source": [
    "# Create a SIFT feature detector\n",
    "sift = cv2.SIFT_create()\n",
    "\n",
    "# Apply detector to find keypoints (pts) and descriptors (desc) in each image\n",
    "pts1, desc1 = sift.detectAndCompute(image=img1, mask=None)\n",
    "pts2, desc2 = sift.detectAndCompute(image=img2, mask=None)"
   ]
  },
  {
   "cell_type": "markdown",
   "metadata": {},
   "source": [
    "Matching."
   ]
  },
  {
   "cell_type": "code",
   "execution_count": null,
   "metadata": {},
   "outputs": [],
   "source": [
    "# Create a brute-force matcher\n",
    "bf = cv2.BFMatcher(\n",
    "    normType=cv2.NORM_L2,\n",
    "    crossCheck=False,       # <-- IMPORTANT - must be False for kNN matching\n",
    ")\n",
    "\n",
    "# Function to get good matches with ratio test\n",
    "def get_good_matches(descA, descB, threshold=0.5):\n",
    "    # Find the two best matches between descriptors\n",
    "    matches = bf.knnMatch(descA, descB, k=2)\n",
    "\n",
    "    # Find the subset of good matches\n",
    "    good_matches = []\n",
    "    for m, n in matches:\n",
    "        if m.distance / n.distance < threshold:\n",
    "            good_matches.append(m)\n",
    "    \n",
    "    # Return good matches, sorted by distance (smallest first)\n",
    "    return sorted(good_matches, key = lambda m: m.distance)\n",
    "\n",
    "# Match the two images\n",
    "matches = get_good_matches(desc1, desc2)\n",
    "print(f'found {len(matches)} good matches')"
   ]
  },
  {
   "cell_type": "markdown",
   "metadata": {},
   "source": [
    "Visualize all good matches."
   ]
  },
  {
   "cell_type": "code",
   "execution_count": null,
   "metadata": {},
   "outputs": [],
   "source": [
    "# Create figure\n",
    "fig, (ax1, ax2) = plt.subplots(1, 2, figsize=(15, 10))\n",
    "\n",
    "# Show images\n",
    "ax1.imshow(img1, cmap='gray')\n",
    "ax2.imshow(img2, cmap='gray')\n",
    "\n",
    "# Show matches\n",
    "for m in matches:\n",
    "    # - Get location of keypoints\n",
    "    p1 = pts1[m.queryIdx].pt\n",
    "    p2 = pts2[m.trainIdx].pt\n",
    "    # - Draw line connecting keypoint in first image with keypoint in second image\n",
    "    fig.add_artist(\n",
    "        ConnectionPatch(\n",
    "            p1, p2, \n",
    "            'data', 'data',\n",
    "            axesA=ax1, axesB=ax2,\\\n",
    "            color='red',\n",
    "            connectionstyle='arc3, rad=0.',\n",
    "            linewidth=0.1,\n",
    "        )\n",
    "    )\n",
    "    # - Draw red dot at each keypoint\n",
    "    ax1.plot(p1[0], p1[1], 'r.', markersize=2)\n",
    "    ax2.plot(p2[0], p2[1], 'r.', markersize=2)\n",
    "\n",
    "plt.show()"
   ]
  },
  {
   "cell_type": "markdown",
   "metadata": {},
   "source": [
    "Define camera matrix."
   ]
  },
  {
   "cell_type": "code",
   "execution_count": null,
   "metadata": {},
   "outputs": [],
   "source": [
    "K = np.array([[1565.7702703272157, 0.0, 964.2389356041999], [0.0, 1562.3561924508267, 537.4247202074102], [0.0, 0.0, 1.0]])"
   ]
  },
  {
   "cell_type": "markdown",
   "metadata": {},
   "source": [
    "Get image coordinates of matches."
   ]
  },
  {
   "cell_type": "code",
   "execution_count": null,
   "metadata": {},
   "outputs": [],
   "source": [
    "# Create a, b\n",
    "a = []\n",
    "b = []\n",
    "for m in matches:\n",
    "    a.append(pts1[m.queryIdx].pt)\n",
    "    b.append(pts2[m.trainIdx].pt)\n",
    "a = np.array(a)\n",
    "b = np.array(b)"
   ]
  },
  {
   "cell_type": "markdown",
   "metadata": {},
   "source": [
    "## Two-view reconstruction with OpenCV"
   ]
  },
  {
   "cell_type": "markdown",
   "metadata": {},
   "source": [
    "Estimate $R^B_A$ and $p^B_A$."
   ]
  },
  {
   "cell_type": "code",
   "execution_count": null,
   "metadata": {},
   "outputs": [],
   "source": [
    "# Get solution\n",
    "num_inliers_cv, E_cv, R_inB_ofA_cv, p_inB_ofA_cv, mask_cv = cv2.recoverPose(\n",
    "    a.copy(),\n",
    "    b.copy(),\n",
    "    K, np.zeros(4),\n",
    "    K, np.zeros(4),\n",
    ")\n",
    "\n",
    "# Flatten the position (returned as a 2d array by default)\n",
    "p_inB_ofA_cv = p_inB_ofA_cv.flatten()\n",
    "mask_cv = mask_cv.flatten()"
   ]
  },
  {
   "cell_type": "markdown",
   "metadata": {},
   "source": [
    "Estimate $p^A_1, \\dotsc, p^A_n$."
   ]
  },
  {
   "cell_type": "code",
   "execution_count": null,
   "metadata": {},
   "outputs": [],
   "source": [
    "points = cv2.triangulatePoints(\n",
    "    K @ np.column_stack([np.eye(3), np.zeros(3)]),\n",
    "    K @ np.column_stack([R_inB_ofA_cv, p_inB_ofA_cv]),\n",
    "    a.copy().T,\n",
    "    b.copy().T,\n",
    ")\n",
    "\n",
    "# Normalize points\n",
    "points /= points[-1, :]\n",
    "\n",
    "# Extract non-homogeneous coordinates\n",
    "p_inA_cv = points[0:3, :].T"
   ]
  },
  {
   "cell_type": "markdown",
   "metadata": {},
   "source": [
    "How many inliers."
   ]
  },
  {
   "cell_type": "code",
   "execution_count": null,
   "metadata": {},
   "outputs": [],
   "source": [
    "print(f'OpenCV found {num_inliers_cv} inliers out of {len(mask_cv)}')"
   ]
  },
  {
   "cell_type": "markdown",
   "metadata": {},
   "source": [
    "Get subsets of points that were declared inliers and outliers by OpenCV."
   ]
  },
  {
   "cell_type": "code",
   "execution_count": null,
   "metadata": {},
   "outputs": [],
   "source": [
    "a_inliers_cv = np.array([a_i for a_i, mask_i in zip(a, mask_cv) if mask_i])\n",
    "b_inliers_cv = np.array([b_i for b_i, mask_i in zip(b, mask_cv) if mask_i])\n",
    "assert(len(a_inliers_cv) == np.count_nonzero(mask_cv))\n",
    "assert(len(b_inliers_cv) == np.count_nonzero(mask_cv))\n",
    "\n",
    "p_inA_inliers_cv = np.array([p_inA_i for p_inA_i, mask_i in zip(p_inA_cv, mask_cv) if mask_i])\n",
    "assert(len(p_inA_inliers_cv) == np.count_nonzero(mask_cv))\n",
    "\n",
    "a_outliers_cv = np.array([a_i for a_i, mask_i in zip(a, mask_cv) if not mask_i])\n",
    "b_outliers_cv = np.array([b_i for b_i, mask_i in zip(b, mask_cv) if not mask_i])\n",
    "p_inA_outliers_cv = np.array([p_inA_i for p_inA_i, mask_i in zip(p_inA_cv, mask_cv) if not mask_i])"
   ]
  },
  {
   "cell_type": "markdown",
   "metadata": {},
   "source": [
    "Find and visualize reprojection error."
   ]
  },
  {
   "cell_type": "code",
   "execution_count": null,
   "metadata": {},
   "outputs": [],
   "source": [
    "print('getting error for inliers')\n",
    "e_a_inliers_cv = projection_error(K, np.eye(3), np.zeros(3), p_inA_inliers_cv, a_inliers_cv)\n",
    "e_b_inliers_cv = projection_error(K, R_inB_ofA_cv, p_inB_ofA_cv, p_inA_inliers_cv, b_inliers_cv)\n",
    "print('getting error for outliers')\n",
    "e_a_outliers_cv = projection_error(K, np.eye(3), np.zeros(3), p_inA_outliers_cv, a_outliers_cv)\n",
    "e_b_outliers_cv = projection_error(K, R_inB_ofA_cv, p_inB_ofA_cv, p_inA_outliers_cv, b_outliers_cv)\n",
    "\n",
    "fig, (ax_a, ax_b) = plt.subplots(1, 2, figsize=(10, 3))\n",
    "ax_a.hist(e_a_inliers_cv, np.linspace(0, 2, 20), alpha=0.5, label='inliers')\n",
    "ax_a.hist(e_a_outliers_cv, np.linspace(0, 2, 20), alpha=0.5, label='outliers')\n",
    "ax_a.legend()\n",
    "ax_a.set_xlabel('error (pixels)')\n",
    "ax_a.set_ylabel('count')\n",
    "ax_b.hist(e_b_inliers_cv, np.linspace(0, 2, 20), alpha=0.5, label='inliers')\n",
    "ax_b.hist(e_b_outliers_cv, np.linspace(0, 2, 20), alpha=0.5, label='outliers')\n",
    "ax_b.legend()\n",
    "ax_b.set_xlabel('error (pixels)')\n",
    "ax_b.set_ylabel('count')\n",
    "plt.show()"
   ]
  },
  {
   "cell_type": "markdown",
   "metadata": {},
   "source": [
    "## Optimized two-view reconstruction with SymForce"
   ]
  },
  {
   "cell_type": "markdown",
   "metadata": {},
   "source": [
    "Write a symbolic function that projects a point into the image."
   ]
  },
  {
   "cell_type": "code",
   "execution_count": null,
   "metadata": {},
   "outputs": [],
   "source": [
    "def sf_projection(\n",
    "    T_inC_ofW: sf.Pose3,\n",
    "    p_inW: sf.V3,\n",
    "    fx: sf.Scalar,\n",
    "    fy: sf.Scalar,\n",
    "    cx: sf.Scalar,\n",
    "    cy: sf.Scalar,\n",
    "    epsilon: sf.Scalar,\n",
    ") -> sf.V2:\n",
    "    p_inC = T_inC_ofW * p_inW\n",
    "    return sf.V2(\n",
    "        fx * (p_inC[0] / p_inC[2]) + cx,\n",
    "        fy * (p_inC[1] / p_inC[2]) + cy,\n",
    "    )"
   ]
  },
  {
   "cell_type": "markdown",
   "metadata": {},
   "source": [
    "Write a symbolic function that computes the difference between a projected point and an image point."
   ]
  },
  {
   "cell_type": "code",
   "execution_count": null,
   "metadata": {},
   "outputs": [],
   "source": [
    "def sf_projection_residual(\n",
    "    T_inC_ofW: sf.Pose3,\n",
    "    p_inW: sf.V3,\n",
    "    q: sf.V2,\n",
    "    fx: sf.Scalar,\n",
    "    fy: sf.Scalar,\n",
    "    cx: sf.Scalar,\n",
    "    cy: sf.Scalar,\n",
    "    epsilon: sf.Scalar,  \n",
    ") -> sf.V2:\n",
    "    q_proj = sf_projection(T_inC_ofW, p_inW, fx, fy, cx, cy, epsilon)\n",
    "    return sf.V2(q_proj - q)"
   ]
  },
  {
   "cell_type": "markdown",
   "metadata": {},
   "source": [
    "Lambdify these two functions so they can be evaluated numerically."
   ]
  },
  {
   "cell_type": "code",
   "execution_count": null,
   "metadata": {},
   "outputs": [],
   "source": [
    "sf_projection_num = symforce.util.lambdify(sf_projection)\n",
    "sf_projection_residual_num = symforce.util.lambdify(sf_projection_residual)"
   ]
  },
  {
   "cell_type": "markdown",
   "metadata": {},
   "source": [
    "Create one more residual to fix the scale so that the distance between frame $A$ and frame $B$ is close to one."
   ]
  },
  {
   "cell_type": "code",
   "execution_count": null,
   "metadata": {},
   "outputs": [],
   "source": [
    "def sf_scale_residual(\n",
    "    T_inC_ofW: sf.Pose3,\n",
    "    epsilon: sf.Scalar,\n",
    ") -> sf.V1:\n",
    "    return sf.V1(T_inC_ofW.t.norm() - 1)"
   ]
  },
  {
   "cell_type": "markdown",
   "metadata": {},
   "source": [
    "### Apply only to inliers (as determined by OpenCV)"
   ]
  },
  {
   "cell_type": "markdown",
   "metadata": {},
   "source": [
    "Create initial values for optimization."
   ]
  },
  {
   "cell_type": "code",
   "execution_count": null,
   "metadata": {},
   "outputs": [],
   "source": [
    "initial_values = Values(\n",
    "    T_inA_ofA=sym.Pose3(\n",
    "        R=sym.Rot3.from_rotation_matrix(np.eye(3)),\n",
    "        t=np.zeros(3),\n",
    "    ),\n",
    "    T_inB_ofA=sym.Pose3(\n",
    "        R=sym.Rot3.from_rotation_matrix(R_inB_ofA_cv),\n",
    "        t=p_inB_ofA_cv,\n",
    "    ),\n",
    "    matches=[],\n",
    "    fx=K[0, 0],\n",
    "    fy=K[1, 1],\n",
    "    cx=K[0, 2],\n",
    "    cy=K[1, 2],\n",
    "    epsilon=sym.epsilon,\n",
    ")\n",
    "for a_i, b_i, p_inA_i in zip(a_inliers_cv, b_inliers_cv, p_inA_inliers_cv):\n",
    "    match = Values(\n",
    "        a=a_i,\n",
    "        b=b_i,\n",
    "        p_inA=p_inA_i,\n",
    "    )\n",
    "    initial_values['matches'].append(match)"
   ]
  },
  {
   "cell_type": "markdown",
   "metadata": {},
   "source": [
    "Create factors for optimization."
   ]
  },
  {
   "cell_type": "code",
   "execution_count": null,
   "metadata": {},
   "outputs": [],
   "source": [
    "factors = [\n",
    "    Factor(\n",
    "        residual=sf_scale_residual,\n",
    "        keys=[\n",
    "            'T_inB_ofA',\n",
    "            'epsilon',\n",
    "        ],\n",
    "    )\n",
    "]\n",
    "for i_match, match in enumerate(initial_values['matches']):\n",
    "    factors.append(Factor(\n",
    "        residual=sf_projection_residual,\n",
    "        keys=[\n",
    "            'T_inA_ofA',\n",
    "            f'matches[{i_match}].p_inA',\n",
    "            f'matches[{i_match}].a',\n",
    "            'fx',\n",
    "            'fy',\n",
    "            'cx',\n",
    "            'cy',\n",
    "            'epsilon',\n",
    "        ],\n",
    "    ))\n",
    "    factors.append(Factor(\n",
    "        residual=sf_projection_residual,\n",
    "        keys=[\n",
    "            'T_inB_ofA',\n",
    "            f'matches[{i_match}].p_inA',\n",
    "            f'matches[{i_match}].b',\n",
    "            'fx',\n",
    "            'fy',\n",
    "            'cx',\n",
    "            'cy',\n",
    "            'epsilon',\n",
    "        ],\n",
    "    ))"
   ]
  },
  {
   "cell_type": "markdown",
   "metadata": {},
   "source": [
    "Create optimizer."
   ]
  },
  {
   "cell_type": "code",
   "execution_count": null,
   "metadata": {},
   "outputs": [],
   "source": [
    "optimized_keys = ['T_inB_ofA']\n",
    "for i_match, match in enumerate(initial_values['matches']):\n",
    "    optimized_keys.append(f'matches[{i_match}].p_inA')\n",
    "optimizer = Optimizer(\n",
    "    factors=factors,\n",
    "    optimized_keys=optimized_keys,\n",
    "    debug_stats=True,\n",
    "    params=Optimizer.Params(\n",
    "        iterations=100,\n",
    "    ),\n",
    ")"
   ]
  },
  {
   "cell_type": "markdown",
   "metadata": {},
   "source": [
    "Run optimizer."
   ]
  },
  {
   "cell_type": "code",
   "execution_count": null,
   "metadata": {},
   "outputs": [],
   "source": [
    "result = optimizer.optimize(initial_values)\n",
    "assert(result.status == Optimizer.Status.SUCCESS)"
   ]
  },
  {
   "cell_type": "markdown",
   "metadata": {},
   "source": [
    "Get results."
   ]
  },
  {
   "cell_type": "code",
   "execution_count": null,
   "metadata": {},
   "outputs": [],
   "source": [
    "T_inB_ofA_inliers_sf = result.optimized_values['T_inB_ofA'].to_homogenous_matrix()\n",
    "R_inB_ofA_inliers_sf = T_inB_ofA_inliers_sf[0:3, 0:3]\n",
    "p_inB_ofA_inliers_sf = T_inB_ofA_inliers_sf[0:3, 3]\n",
    "p_inA_inliers_sf = np.array([\n",
    "    match['p_inA'] for match in result.optimized_values['matches']\n",
    "])"
   ]
  },
  {
   "cell_type": "markdown",
   "metadata": {},
   "source": [
    "Compute reprojection error from results."
   ]
  },
  {
   "cell_type": "code",
   "execution_count": null,
   "metadata": {},
   "outputs": [],
   "source": [
    "e_a_inliers_sf = projection_error(K, np.eye(3), np.zeros(3), p_inA_inliers_sf, a_inliers_cv)\n",
    "e_b_inliers_sf = projection_error(K, R_inB_ofA_inliers_sf, p_inB_ofA_inliers_sf, p_inA_inliers_sf, b_inliers_cv)"
   ]
  },
  {
   "cell_type": "markdown",
   "metadata": {},
   "source": [
    "### Apply to both inliers and outliers"
   ]
  },
  {
   "cell_type": "markdown",
   "metadata": {},
   "source": [
    "Create initial values for optimization."
   ]
  },
  {
   "cell_type": "code",
   "execution_count": null,
   "metadata": {},
   "outputs": [],
   "source": [
    "initial_values = Values(\n",
    "    T_inA_ofA=sym.Pose3(\n",
    "        R=sym.Rot3.from_rotation_matrix(np.eye(3)),\n",
    "        t=np.zeros(3),\n",
    "    ),\n",
    "    T_inB_ofA=sym.Pose3(\n",
    "        R=sym.Rot3.from_rotation_matrix(R_inB_ofA_cv),\n",
    "        t=p_inB_ofA_cv,\n",
    "    ),\n",
    "    matches=[],\n",
    "    fx=K[0, 0],\n",
    "    fy=K[1, 1],\n",
    "    cx=K[0, 2],\n",
    "    cy=K[1, 2],\n",
    "    epsilon=sym.epsilon,\n",
    ")\n",
    "for a_i, b_i, p_inA_i in zip(a, b, p_inA_cv):\n",
    "    match = Values(\n",
    "        a=a_i,\n",
    "        b=b_i,\n",
    "        p_inA=p_inA_i,\n",
    "    )\n",
    "    initial_values['matches'].append(match)"
   ]
  },
  {
   "cell_type": "markdown",
   "metadata": {},
   "source": [
    "Create factors for optimization."
   ]
  },
  {
   "cell_type": "code",
   "execution_count": null,
   "metadata": {},
   "outputs": [],
   "source": [
    "factors = [\n",
    "    Factor(\n",
    "        residual=sf_scale_residual,\n",
    "        keys=[\n",
    "            'T_inB_ofA',\n",
    "            'epsilon',\n",
    "        ],\n",
    "    )\n",
    "]\n",
    "for i_match, match in enumerate(initial_values['matches']):\n",
    "    factors.append(Factor(\n",
    "        residual=sf_projection_residual,\n",
    "        keys=[\n",
    "            'T_inA_ofA',\n",
    "            f'matches[{i_match}].p_inA',\n",
    "            f'matches[{i_match}].a',\n",
    "            'fx',\n",
    "            'fy',\n",
    "            'cx',\n",
    "            'cy',\n",
    "            'epsilon',\n",
    "        ],\n",
    "    ))\n",
    "    factors.append(Factor(\n",
    "        residual=sf_projection_residual,\n",
    "        keys=[\n",
    "            'T_inB_ofA',\n",
    "            f'matches[{i_match}].p_inA',\n",
    "            f'matches[{i_match}].b',\n",
    "            'fx',\n",
    "            'fy',\n",
    "            'cx',\n",
    "            'cy',\n",
    "            'epsilon',\n",
    "        ],\n",
    "    ))"
   ]
  },
  {
   "cell_type": "markdown",
   "metadata": {},
   "source": [
    "Create optimizer."
   ]
  },
  {
   "cell_type": "code",
   "execution_count": null,
   "metadata": {},
   "outputs": [],
   "source": [
    "optimized_keys = ['T_inB_ofA']\n",
    "for i_match, match in enumerate(initial_values['matches']):\n",
    "    optimized_keys.append(f'matches[{i_match}].p_inA')\n",
    "optimizer = Optimizer(\n",
    "    factors=factors,\n",
    "    optimized_keys=optimized_keys,\n",
    "    debug_stats=True,\n",
    "    params=Optimizer.Params(\n",
    "        iterations=100,\n",
    "    ),\n",
    ")"
   ]
  },
  {
   "cell_type": "markdown",
   "metadata": {},
   "source": [
    "Run optimizer."
   ]
  },
  {
   "cell_type": "code",
   "execution_count": null,
   "metadata": {},
   "outputs": [],
   "source": [
    "result = optimizer.optimize(initial_values)\n",
    "assert(result.status == Optimizer.Status.SUCCESS)"
   ]
  },
  {
   "cell_type": "markdown",
   "metadata": {},
   "source": [
    "Get results."
   ]
  },
  {
   "cell_type": "code",
   "execution_count": null,
   "metadata": {},
   "outputs": [],
   "source": [
    "T_inB_ofA_all_sf = result.optimized_values['T_inB_ofA'].to_homogenous_matrix()\n",
    "R_inB_ofA_all_sf = T_inB_ofA_all_sf[0:3, 0:3]\n",
    "p_inB_ofA_all_sf = T_inB_ofA_all_sf[0:3, 3]\n",
    "p_inA_all_sf = np.array([\n",
    "    match['p_inA'] for match in result.optimized_values['matches']\n",
    "])"
   ]
  },
  {
   "cell_type": "markdown",
   "metadata": {},
   "source": [
    "Compute reprojection error from results."
   ]
  },
  {
   "cell_type": "code",
   "execution_count": null,
   "metadata": {},
   "outputs": [],
   "source": [
    "e_a_all_sf = projection_error(K, np.eye(3), np.zeros(3), p_inA_all_sf, a)\n",
    "e_b_all_sf = projection_error(K, R_inB_ofA_all_sf, p_inB_ofA_all_sf, p_inA_all_sf, b)"
   ]
  },
  {
   "cell_type": "markdown",
   "metadata": {},
   "source": [
    "### Visualize results"
   ]
  },
  {
   "cell_type": "code",
   "execution_count": null,
   "metadata": {},
   "outputs": [],
   "source": [
    "print('REPROJECTION ERRORS')\n",
    "print(f'a : mean (sf-all, sf-inliers, cv) : {np.mean(e_a_all_sf):4.2f}, {np.mean(e_a_inliers_sf):4.2f}, {np.mean(e_a_inliers_cv):4.2f}')\n",
    "print(f'b : mean (sf-all, sf-inliers, cv) : {np.mean(e_b_all_sf):4.2f}, {np.mean(e_b_inliers_sf):4.2f}, {np.mean(e_b_inliers_cv):4.2f}')\n",
    "\n",
    "fig, (ax_a, ax_b) = plt.subplots(1, 2, figsize=(10, 3))\n",
    "ax_a.hist(e_a_inliers_cv, np.linspace(0, 2, 20), alpha=0.5, label='inliers (cv)')\n",
    "ax_a.hist(e_a_inliers_sf, np.linspace(0, 2, 20), alpha=0.5, label='inliers (sf)')\n",
    "ax_a.hist(e_a_all_sf, np.linspace(0, 2, 20), alpha=0.5, label='all (sf)')\n",
    "ax_a.hist(e_a_outliers_cv, np.linspace(0, 2, 20), alpha=0.5, label='outliers')\n",
    "ax_a.legend()\n",
    "ax_a.set_xlabel('error (pixels)')\n",
    "ax_a.set_ylabel('count')\n",
    "ax_b.hist(e_b_inliers_cv, np.linspace(0, 2, 20), alpha=0.5, label='inliers (cv)')\n",
    "ax_b.hist(e_b_inliers_sf, np.linspace(0, 2, 20), alpha=0.5, label='inliers (sf)')\n",
    "ax_b.hist(e_b_all_sf, np.linspace(0, 2, 20), alpha=0.5, label='all (sf)')\n",
    "ax_b.hist(e_b_outliers_cv, np.linspace(0, 2, 20), alpha=0.5, label='outliers')\n",
    "ax_b.legend()\n",
    "ax_b.set_xlabel('error (pixels)')\n",
    "ax_b.set_ylabel('count')\n",
    "plt.show()"
   ]
  },
  {
   "cell_type": "markdown",
   "metadata": {},
   "source": [
    "## Questions\n",
    "\n",
    "* Why are the results what they are?\n",
    "* Why, if at all, is it important to distinguish between \"inliers\" and \"outliers\" before performing optimization?\n",
    "* What happens if you initialize the optimizer with estimates from your own code for two-view reconstruction?\n",
    "* How does OpenCV distinguish between inliers and outliers? (Modify your own code to do the same.)\n",
    "* Is there a way to change the optimization so that it performs well even with outliers? (Try it.)"
   ]
  }
 ],
 "metadata": {
  "kernelspec": {
   "display_name": "sf-test",
   "language": "python",
   "name": "python3"
  },
  "language_info": {
   "codemirror_mode": {
    "name": "ipython",
    "version": 3
   },
   "file_extension": ".py",
   "mimetype": "text/x-python",
   "name": "python",
   "nbconvert_exporter": "python",
   "pygments_lexer": "ipython3",
   "version": "3.12.1"
  }
 },
 "nbformat": 4,
 "nbformat_minor": 2
}
