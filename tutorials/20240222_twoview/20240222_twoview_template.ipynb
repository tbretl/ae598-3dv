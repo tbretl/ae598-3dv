{
 "cells": [
  {
   "cell_type": "markdown",
   "metadata": {},
   "source": [
    "## Setup notebook"
   ]
  },
  {
   "cell_type": "markdown",
   "metadata": {},
   "source": [
    "Do all imports."
   ]
  },
  {
   "cell_type": "code",
   "execution_count": null,
   "metadata": {},
   "outputs": [],
   "source": [
    "# For numerical methods\n",
    "import numpy as np\n",
    "from scipy.spatial.transform import Rotation\n",
    "from scipy.linalg import block_diag\n",
    "\n",
    "# For image processing and visualization of results\n",
    "import cv2\n",
    "import matplotlib.pyplot as plt\n",
    "from matplotlib.patches import ConnectionPatch\n",
    "\n",
    "# For timing\n",
    "import time"
   ]
  },
  {
   "cell_type": "markdown",
   "metadata": {},
   "source": [
    "Create random number generator with a particular seed so we can reproduce results."
   ]
  },
  {
   "cell_type": "code",
   "execution_count": null,
   "metadata": {},
   "outputs": [],
   "source": [
    "rng = np.random.default_rng(0)"
   ]
  },
  {
   "cell_type": "markdown",
   "metadata": {},
   "source": [
    "Define a function that implements the wedge operator."
   ]
  },
  {
   "cell_type": "code",
   "execution_count": null,
   "metadata": {},
   "outputs": [],
   "source": [
    "def skew(v):\n",
    "    assert(type(v) == np.ndarray)\n",
    "    assert(v.shape == (3,))\n",
    "    return np.array([[0., -v[2], v[1]],\n",
    "                     [v[2], 0., -v[0]],\n",
    "                     [-v[1], v[0], 0.]])"
   ]
  },
  {
   "cell_type": "markdown",
   "metadata": {},
   "source": [
    "Define a function to print things nicely."
   ]
  },
  {
   "cell_type": "code",
   "execution_count": null,
   "metadata": {},
   "outputs": [],
   "source": [
    "def myprint(M):\n",
    "    if M.shape:\n",
    "        with np.printoptions(linewidth=150, formatter={'float': lambda x: f'{x:10.4f}'}):\n",
    "            print(M)\n",
    "    else:\n",
    "        print(f'{M:10.4f}')"
   ]
  },
  {
   "cell_type": "markdown",
   "metadata": {},
   "source": [
    "## Create dataset"
   ]
  },
  {
   "cell_type": "markdown",
   "metadata": {},
   "source": [
    "Choose intrinsic parameters."
   ]
  },
  {
   "cell_type": "code",
   "execution_count": null,
   "metadata": {},
   "outputs": [],
   "source": [
    "K = np.array([\n",
    "    [1500., 0., 1000.],\n",
    "    [0., 1500., 500.],\n",
    "    [0., 0., 1.],\n",
    "])"
   ]
  },
  {
   "cell_type": "markdown",
   "metadata": {},
   "source": [
    "Choose extrinsic parameters (these are poses **of the camera in the world frame**)."
   ]
  },
  {
   "cell_type": "code",
   "execution_count": null,
   "metadata": {},
   "outputs": [],
   "source": [
    "R1 = np.eye(3)\n",
    "p1 = np.array([0.0, 0.0, -1.0])\n",
    "T1 = np.row_stack([np.column_stack([R1, p1]), [0., 0., 0., 1.]])\n",
    "\n",
    "R2 = Rotation.from_rotvec((0.05 * np.pi) * np.array([0., 1., 0.])).as_matrix()\n",
    "p2 = np.array([0.5, 0.0, -1.1])\n",
    "T2 = np.row_stack([np.column_stack([R2, p2]), [0., 0., 0., 1.]])"
   ]
  },
  {
   "cell_type": "markdown",
   "metadata": {},
   "source": [
    "Sample points **in the world frame**."
   ]
  },
  {
   "cell_type": "code",
   "execution_count": null,
   "metadata": {},
   "outputs": [],
   "source": [
    "n = 10\n",
    "p_inW = rng.uniform(low=[-1., -1., -0.5], high=[1., 1., 2.5], size=(n, 3))"
   ]
  },
  {
   "cell_type": "markdown",
   "metadata": {},
   "source": [
    "Find coordinates of these same points **in the frame of camera 1** for later comparison."
   ]
  },
  {
   "cell_type": "code",
   "execution_count": null,
   "metadata": {},
   "outputs": [],
   "source": [
    "p_in1 = []\n",
    "for p in p_inW:\n",
    "    p_in1.append(R1.T @ p - R1.T @ p1)\n",
    "p_in1 = np.array(p_in1)"
   ]
  },
  {
   "cell_type": "markdown",
   "metadata": {},
   "source": [
    "Project points into the images."
   ]
  },
  {
   "cell_type": "code",
   "execution_count": null,
   "metadata": {},
   "outputs": [],
   "source": [
    "def project(p_inW, K, T_inW_ofC):\n",
    "    p_inW_homog = np.concatenate([p_inW, [1.]])\n",
    "    p_inC_homog = np.linalg.inv(T_inW_ofC) @ p_inW_homog\n",
    "    assert(p_inC_homog[2] > 0)\n",
    "    q_homog = K @ np.eye(3, 4) @ p_inC_homog\n",
    "    return (q_homog / q_homog[2])[:-1]\n",
    "\n",
    "q1 = []\n",
    "q2 = []\n",
    "for p in p_inW:\n",
    "    q1.append(project(p, K, T1))\n",
    "    q2.append(project(p, K, T2))\n",
    "q1 = np.array(q1)\n",
    "q2 = np.array(q2)"
   ]
  },
  {
   "cell_type": "markdown",
   "metadata": {},
   "source": [
    "Get pose $T^2_1$ of camera 2 in the coordinates of camera 1."
   ]
  },
  {
   "cell_type": "code",
   "execution_count": null,
   "metadata": {},
   "outputs": [],
   "source": [
    "T_in2_of1 = np.linalg.inv(T2) @ T1\n",
    "myprint(T_in2_of1)"
   ]
  },
  {
   "cell_type": "markdown",
   "metadata": {},
   "source": [
    "## Get reference solution with OpenCV"
   ]
  },
  {
   "cell_type": "markdown",
   "metadata": {},
   "source": [
    "Estimate the essential matrix $E$ and the relative pose $(R_1^2, p_1^2)$, where $p_1^2$ is correct only up to scale."
   ]
  },
  {
   "cell_type": "code",
   "execution_count": null,
   "metadata": {},
   "outputs": [],
   "source": [
    "num_inliers_cv, E_cv, R_cv, p_cv, mask_cv = cv2.recoverPose(\n",
    "    q1,\n",
    "    q2,\n",
    "    K, np.zeros(4),\n",
    "    K, np.zeros(4),\n",
    ")\n",
    "\n",
    "p_cv = p_cv.flatten()\n",
    "\n",
    "T_in2_of1_cv = np.row_stack([np.column_stack([R_cv, p_cv]), [0., 0., 0., 1.]])\n",
    "print('T_in2_of1 =')\n",
    "myprint(T_in2_of1_cv)\n",
    "\n",
    "print('\\nIs relative position (aka translation) the same up to scale?')\n",
    "myprint(T_in2_of1[0:3, 3] / np.linalg.norm(T_in2_of1[0:3, 3]))\n",
    "myprint(p_cv / np.linalg.norm(p_cv))"
   ]
  },
  {
   "cell_type": "markdown",
   "metadata": {},
   "source": [
    "## Implement solution yourself"
   ]
  },
  {
   "cell_type": "markdown",
   "metadata": {},
   "source": [
    "Implement a function to find structure (i.e., do triangulation)."
   ]
  },
  {
   "cell_type": "code",
   "execution_count": null,
   "metadata": {},
   "outputs": [],
   "source": [
    "def triangulate(q1, q2, R, p):\n",
    "    # Return two arrays of size n x 3\n",
    "    # - the first should have coordinates of all points in the frame of camera 1\n",
    "    # - the second should have coordinates of all points in the frame of camera 2\n",
    "    pass"
   ]
  },
  {
   "cell_type": "markdown",
   "metadata": {},
   "source": [
    "Implement a function to do two-view reconstruction:\n",
    "* Find the essential matrix\n",
    "* Decompose the essential matrix to find the relative pose $(R,p)$ of camera 1 in camera 2\n",
    "* Triangulate to find 3D coordinates of all points"
   ]
  },
  {
   "cell_type": "code",
   "execution_count": null,
   "metadata": {},
   "outputs": [],
   "source": [
    "def twoview(q1, q2, K):\n",
    "    # Return:\n",
    "    # - the essential matrix (3x3)\n",
    "    # - the relative pose R (3x3) and p (length 3)\n",
    "    # - the coordinates of all points to which q1 and q2 correspond in the coordinates of camera 1\n",
    "    pass"
   ]
  },
  {
   "cell_type": "markdown",
   "metadata": {},
   "source": [
    "Apply your function and check that the results are correct."
   ]
  },
  {
   "cell_type": "markdown",
   "metadata": {},
   "source": []
  }
 ],
 "metadata": {
  "kernelspec": {
   "display_name": "sf-test",
   "language": "python",
   "name": "python3"
  },
  "language_info": {
   "codemirror_mode": {
    "name": "ipython",
    "version": 3
   },
   "file_extension": ".py",
   "mimetype": "text/x-python",
   "name": "python",
   "nbconvert_exporter": "python",
   "pygments_lexer": "ipython3",
   "version": "3.12.1"
  }
 },
 "nbformat": 4,
 "nbformat_minor": 2
}
