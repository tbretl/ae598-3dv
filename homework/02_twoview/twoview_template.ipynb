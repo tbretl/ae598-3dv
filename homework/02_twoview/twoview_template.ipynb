{
 "cells": [
  {
   "cell_type": "markdown",
   "metadata": {},
   "source": [
    "## Create dataset"
   ]
  },
  {
   "cell_type": "markdown",
   "metadata": {},
   "source": [
    "Do all imports."
   ]
  },
  {
   "cell_type": "code",
   "execution_count": null,
   "metadata": {},
   "outputs": [],
   "source": [
    "# For input/output\n",
    "from pathlib import Path\n",
    "\n",
    "# For numerical methods\n",
    "import numpy as np\n",
    "\n",
    "# For image processing and visualization of results\n",
    "import cv2\n",
    "import matplotlib.pyplot as plt\n",
    "from matplotlib.patches import ConnectionPatch\n",
    "\n",
    "# For optimization with symforce\n",
    "import symforce\n",
    "symforce.set_epsilon_to_symbol()\n",
    "import symforce.symbolic as sf\n",
    "from symforce.values import Values\n",
    "from symforce.opt.factor import Factor\n",
    "from symforce.opt.optimizer import Optimizer\n",
    "from symforce.opt.noise_models import BarronNoiseModel\n",
    "import sym"
   ]
  },
  {
   "cell_type": "markdown",
   "metadata": {},
   "source": [
    "Function to print things nicely."
   ]
  },
  {
   "cell_type": "code",
   "execution_count": null,
   "metadata": {},
   "outputs": [],
   "source": [
    "def myprint(M):\n",
    "    if M.shape:\n",
    "        with np.printoptions(linewidth=150, formatter={'float': lambda x: f'{x:10.4f}'}):\n",
    "            print(M)\n",
    "    else:\n",
    "        print(f'{M:10.4f}')"
   ]
  },
  {
   "cell_type": "markdown",
   "metadata": {},
   "source": [
    "Function to compute projection error."
   ]
  },
  {
   "cell_type": "code",
   "execution_count": null,
   "metadata": {},
   "outputs": [],
   "source": [
    "def apply_transform(R_inB_ofA, p_inB_ofA, p_inA):\n",
    "    p_inB = np.row_stack([\n",
    "        (R_inB_ofA @ p_inA_i + p_inB_ofA) for p_inA_i in p_inA\n",
    "    ])\n",
    "    return p_inB\n",
    "\n",
    "def project(K, R_inB_ofA, p_inB_ofA, p_inA, warn=True):\n",
    "    p_inB = apply_transform(R_inB_ofA, p_inB_ofA, p_inA)\n",
    "    if not np.all(p_inB[:, 2] > 0):\n",
    "        if warn:\n",
    "            print('WARNING: non-positive depths')\n",
    "    q = np.row_stack([K @ p_inB_i / p_inB_i[2] for p_inB_i in p_inB])\n",
    "    return q[:, 0:2]\n",
    "\n",
    "def projection_error(K, R_inB_ofA, p_inB_ofA, p_inA, b, warn=True):\n",
    "    b_pred = project(K, R_inB_ofA, p_inB_ofA, p_inA, warn=warn)\n",
    "    return np.linalg.norm(b_pred - b, axis=1)"
   ]
  },
  {
   "cell_type": "markdown",
   "metadata": {},
   "source": [
    "Load two images from video."
   ]
  },
  {
   "cell_type": "code",
   "execution_count": null,
   "metadata": {},
   "outputs": [],
   "source": [
    "# Specify filename\n",
    "video_filename = Path('../../tutorials/20240305_realdata_whatbreaks/video.MOV')\n",
    "\n",
    "# Create a video reader\n",
    "video_src = cv2.VideoCapture(str(video_filename))\n",
    "\n",
    "# Say what frames we want to read\n",
    "# - index of first frame\n",
    "i_frame_1 = 0\n",
    "# - index of second frame\n",
    "i_frame_2 = 30\n",
    "\n",
    "# Read first frame\n",
    "video_src.set(cv2.CAP_PROP_POS_FRAMES, i_frame_1)\n",
    "success, frame = video_src.read()\n",
    "assert(success)\n",
    "img1 = cv2.cvtColor(frame, cv2.COLOR_BGR2GRAY)\n",
    "\n",
    "# Read second frame\n",
    "video_src.set(cv2.CAP_PROP_POS_FRAMES, i_frame_2)\n",
    "success, frame = video_src.read()\n",
    "assert(success)\n",
    "img2 = cv2.cvtColor(frame, cv2.COLOR_BGR2GRAY)"
   ]
  },
  {
   "cell_type": "markdown",
   "metadata": {},
   "source": [
    "Detection."
   ]
  },
  {
   "cell_type": "code",
   "execution_count": null,
   "metadata": {},
   "outputs": [],
   "source": [
    "# Create a SIFT feature detector\n",
    "sift = cv2.SIFT_create()\n",
    "\n",
    "# Apply detector to find keypoints (pts) and descriptors (desc) in each image\n",
    "pts1, desc1 = sift.detectAndCompute(image=img1, mask=None)\n",
    "pts2, desc2 = sift.detectAndCompute(image=img2, mask=None)"
   ]
  },
  {
   "cell_type": "markdown",
   "metadata": {},
   "source": [
    "Matching."
   ]
  },
  {
   "cell_type": "code",
   "execution_count": null,
   "metadata": {},
   "outputs": [],
   "source": [
    "# Create a brute-force matcher\n",
    "bf = cv2.BFMatcher(\n",
    "    normType=cv2.NORM_L2,\n",
    "    crossCheck=False,       # <-- IMPORTANT - must be False for kNN matching\n",
    ")\n",
    "\n",
    "# Function to get good matches with ratio test\n",
    "def get_good_matches(descA, descB, threshold=0.5):\n",
    "    # Find the two best matches between descriptors\n",
    "    matches = bf.knnMatch(descA, descB, k=2)\n",
    "\n",
    "    # Find the subset of good matches\n",
    "    good_matches = []\n",
    "    for m, n in matches:\n",
    "        if m.distance / n.distance < threshold:\n",
    "            good_matches.append(m)\n",
    "    \n",
    "    # Return good matches, sorted by distance (smallest first)\n",
    "    return sorted(good_matches, key = lambda m: m.distance)\n",
    "\n",
    "# Match the two images\n",
    "matches = get_good_matches(desc1, desc2)\n",
    "print(f'found {len(matches)} good matches')"
   ]
  },
  {
   "cell_type": "markdown",
   "metadata": {},
   "source": [
    "Visualize all good matches."
   ]
  },
  {
   "cell_type": "code",
   "execution_count": null,
   "metadata": {},
   "outputs": [],
   "source": [
    "# Create figure\n",
    "fig, (ax1, ax2) = plt.subplots(1, 2, figsize=(15, 10))\n",
    "\n",
    "# Show images\n",
    "ax1.imshow(img1, cmap='gray')\n",
    "ax2.imshow(img2, cmap='gray')\n",
    "\n",
    "# Show matches\n",
    "for m in matches:\n",
    "    # - Get location of keypoints\n",
    "    p1 = pts1[m.queryIdx].pt\n",
    "    p2 = pts2[m.trainIdx].pt\n",
    "    # - Draw line connecting keypoint in first image with keypoint in second image\n",
    "    fig.add_artist(\n",
    "        ConnectionPatch(\n",
    "            p1, p2, \n",
    "            'data', 'data',\n",
    "            axesA=ax1, axesB=ax2,\\\n",
    "            color='red',\n",
    "            connectionstyle='arc3, rad=0.',\n",
    "            linewidth=0.1,\n",
    "        )\n",
    "    )\n",
    "    # - Draw red dot at each keypoint\n",
    "    ax1.plot(p1[0], p1[1], 'r.', markersize=2)\n",
    "    ax2.plot(p2[0], p2[1], 'r.', markersize=2)\n",
    "\n",
    "plt.show()"
   ]
  },
  {
   "cell_type": "markdown",
   "metadata": {},
   "source": [
    "Define camera matrix."
   ]
  },
  {
   "cell_type": "code",
   "execution_count": null,
   "metadata": {},
   "outputs": [],
   "source": [
    "K = np.array([[1565.7702703272157, 0.0, 964.2389356041999], [0.0, 1562.3561924508267, 537.4247202074102], [0.0, 0.0, 1.0]])"
   ]
  },
  {
   "cell_type": "markdown",
   "metadata": {},
   "source": [
    "Get image coordinates of matches."
   ]
  },
  {
   "cell_type": "code",
   "execution_count": null,
   "metadata": {},
   "outputs": [],
   "source": [
    "# Create a, b\n",
    "a = []\n",
    "b = []\n",
    "for m in matches:\n",
    "    a.append(pts1[m.queryIdx].pt)\n",
    "    b.append(pts2[m.trainIdx].pt)\n",
    "a = np.array(a)\n",
    "b = np.array(b)"
   ]
  },
  {
   "cell_type": "markdown",
   "metadata": {},
   "source": [
    "## Two-view reconstruction with OpenCV"
   ]
  },
  {
   "cell_type": "markdown",
   "metadata": {},
   "source": [
    "Estimate $R^B_A$ and $p^B_A$."
   ]
  },
  {
   "cell_type": "code",
   "execution_count": null,
   "metadata": {},
   "outputs": [],
   "source": [
    "# Get solution\n",
    "num_inliers_cv, E_cv, R_inB_ofA_cv, p_inB_ofA_cv, mask_cv = cv2.recoverPose(\n",
    "    a.copy(),\n",
    "    b.copy(),\n",
    "    K, np.zeros(4),\n",
    "    K, np.zeros(4),\n",
    ")\n",
    "\n",
    "# Flatten the position (returned as a 2d array by default)\n",
    "p_inB_ofA_cv = p_inB_ofA_cv.flatten()\n",
    "mask_cv = mask_cv.flatten()"
   ]
  },
  {
   "cell_type": "markdown",
   "metadata": {},
   "source": [
    "Estimate $p^A_1, \\dotsc, p^A_n$."
   ]
  },
  {
   "cell_type": "code",
   "execution_count": null,
   "metadata": {},
   "outputs": [],
   "source": [
    "points = cv2.triangulatePoints(\n",
    "    K @ np.column_stack([np.eye(3), np.zeros(3)]),\n",
    "    K @ np.column_stack([R_inB_ofA_cv, p_inB_ofA_cv]),\n",
    "    a.copy().T,\n",
    "    b.copy().T,\n",
    ")\n",
    "\n",
    "# Normalize points\n",
    "points /= points[-1, :]\n",
    "\n",
    "# Extract non-homogeneous coordinates\n",
    "p_inA_cv = points[0:3, :].T"
   ]
  },
  {
   "cell_type": "markdown",
   "metadata": {},
   "source": [
    "How many inliers."
   ]
  },
  {
   "cell_type": "code",
   "execution_count": null,
   "metadata": {},
   "outputs": [],
   "source": [
    "print(f'OpenCV found {num_inliers_cv} inliers out of {len(mask_cv)}')"
   ]
  },
  {
   "cell_type": "markdown",
   "metadata": {},
   "source": [
    "Get subsets of points that were declared inliers and outliers by OpenCV."
   ]
  },
  {
   "cell_type": "code",
   "execution_count": null,
   "metadata": {},
   "outputs": [],
   "source": [
    "a_inliers_cv = np.array([a_i for a_i, mask_i in zip(a, mask_cv) if mask_i])\n",
    "b_inliers_cv = np.array([b_i for b_i, mask_i in zip(b, mask_cv) if mask_i])\n",
    "assert(len(a_inliers_cv) == np.count_nonzero(mask_cv))\n",
    "assert(len(b_inliers_cv) == np.count_nonzero(mask_cv))\n",
    "\n",
    "p_inA_inliers_cv = np.array([p_inA_i for p_inA_i, mask_i in zip(p_inA_cv, mask_cv) if mask_i])\n",
    "assert(len(p_inA_inliers_cv) == np.count_nonzero(mask_cv))\n",
    "\n",
    "a_outliers_cv = np.array([a_i for a_i, mask_i in zip(a, mask_cv) if not mask_i])\n",
    "b_outliers_cv = np.array([b_i for b_i, mask_i in zip(b, mask_cv) if not mask_i])\n",
    "p_inA_outliers_cv = np.array([p_inA_i for p_inA_i, mask_i in zip(p_inA_cv, mask_cv) if not mask_i])"
   ]
  },
  {
   "cell_type": "markdown",
   "metadata": {},
   "source": [
    "Get reprojection errors."
   ]
  },
  {
   "cell_type": "code",
   "execution_count": null,
   "metadata": {},
   "outputs": [],
   "source": [
    "# For inliers\n",
    "e_a_inliers_cv = projection_error(K, np.eye(3), np.zeros(3), p_inA_inliers_cv, a_inliers_cv)\n",
    "e_b_inliers_cv = projection_error(K, R_inB_ofA_cv, p_inB_ofA_cv, p_inA_inliers_cv, b_inliers_cv)\n",
    "\n",
    "# For outliers\n",
    "e_a_outliers_cv = projection_error(K, np.eye(3), np.zeros(3), p_inA_outliers_cv, a_outliers_cv)\n",
    "e_b_outliers_cv = projection_error(K, R_inB_ofA_cv, p_inB_ofA_cv, p_inA_outliers_cv, b_outliers_cv)"
   ]
  },
  {
   "cell_type": "markdown",
   "metadata": {},
   "source": [
    "## Two-view reconstruction with your code"
   ]
  },
  {
   "cell_type": "markdown",
   "metadata": {},
   "source": [
    "### Initial guess"
   ]
  },
  {
   "cell_type": "markdown",
   "metadata": {},
   "source": [
    "Your implementation of two-view reconstruction."
   ]
  },
  {
   "cell_type": "code",
   "execution_count": null,
   "metadata": {},
   "outputs": [],
   "source": [
    "def skew(v):\n",
    "    assert(type(v) == np.ndarray)\n",
    "    assert(v.shape == (3,))\n",
    "    return np.array([[0., -v[2], v[1]],\n",
    "                     [v[2], 0., -v[0]],\n",
    "                     [-v[1], v[0], 0.]])\n",
    "\n",
    "def twoview_triangulate(alpha, beta, R_inB_ofA, p_inB_ofA):\n",
    "    # INPUTS (alpha, beta, R_inB_ofA, p_inB_ofA)\n",
    "    #  alpha        normalized coordinates of points in image A\n",
    "    #  beta         normalized coordinates of points in image B\n",
    "    #  R_inB_ofA    orientation of frame A in frame B\n",
    "    #  p_inB_ofA    position of frame A in frame B\n",
    "    #\n",
    "    # OUTPUTS (p_inA, p_inB, mask)\n",
    "    #  p_inA        triangulated points in frame A\n",
    "    #  p_inB        triangulated points in frame B\n",
    "    #  mask         1d array of length equal to number of triangulated points,\n",
    "    #               with a \"1\" for each point that has positive depth in both\n",
    "    #               frames and with a \"0\" otherwise\n",
    "\n",
    "    # FIXME\n",
    "    return None, None, None\n",
    "\n",
    "def get_transformation(alpha):\n",
    "    # INPUTS (alpha)\n",
    "    #  alpha        normalized image coordinates (n x 3)\n",
    "    #\n",
    "    # OUTPUTS (T)\n",
    "    #  T            transformation matrix (3 x 3)\n",
    "    #\n",
    "    # The transformation...\n",
    "    #\n",
    "    #  alpha_n = np.array([T @ alpha_i for alpha_i in alpha])\n",
    "    #  \n",
    "    # ...should produce normalized image coordinates whose centroid\n",
    "    # is zero and whose mean distance from the centroid is sqrt(2).\n",
    "    #\n",
    "    # Similarly, the transformation...\n",
    "    #\n",
    "    #   E = T_beta.T @ E_n @ T_alpha\n",
    "    #\n",
    "    # ...should recover the estimate E of the essential matrix, given\n",
    "    # the estimate E_n of the essential matrix that was computed using\n",
    "    # the transformed points alpha_n and beta_n (corresponding to the\n",
    "    # transformations T_alpha and T_beta).\n",
    "\n",
    "    # FIXME\n",
    "    return None\n",
    "\n",
    "def twoview(a, b, K):\n",
    "    # INPUTS (a, b, K)\n",
    "    #  a            image coordinates of points in image A (n x 2)\n",
    "    #  b            image coordinates of points in image B (n x 2)\n",
    "    #  K            camera matrix\n",
    "\n",
    "    # OUTPUTS (E, R_inB_ofA, p_inB_ofA, p_inA)\n",
    "    #  E            estimate of essential matrix\n",
    "    #  R_inB_ofA    estimate of orientation of frame A in frame B\n",
    "    #  p_inB_ofA    estimate of position of frame A in frame B\n",
    "    #  p_inA        estimate of triangulated position of points in frame A\n",
    "\n",
    "    return None, None, None, None"
   ]
  },
  {
   "cell_type": "markdown",
   "metadata": {},
   "source": [
    "Apply your code for two-view reconstruction."
   ]
  },
  {
   "cell_type": "code",
   "execution_count": null,
   "metadata": {},
   "outputs": [],
   "source": [
    "# Get estimate\n",
    "E, R_inB_ofA, p_inB_ofA, p_inA = twoview(a, b, K)\n",
    "\n",
    "# Get reprojection errors\n",
    "e_a = projection_error(K, np.eye(3), np.zeros(3), p_inA, a)\n",
    "e_b = projection_error(K, R_inB_ofA, p_inB_ofA, p_inA, b)"
   ]
  },
  {
   "cell_type": "markdown",
   "metadata": {},
   "source": [
    "### Optimization"
   ]
  },
  {
   "cell_type": "markdown",
   "metadata": {},
   "source": [
    "Write a symbolic function that projects a point into the image."
   ]
  },
  {
   "cell_type": "code",
   "execution_count": null,
   "metadata": {},
   "outputs": [],
   "source": [
    "def sf_projection(\n",
    "    T_inC_ofW: sf.Pose3,\n",
    "    p_inW: sf.V3,\n",
    "    fx: sf.Scalar,\n",
    "    fy: sf.Scalar,\n",
    "    cx: sf.Scalar,\n",
    "    cy: sf.Scalar,\n",
    "    epsilon: sf.Scalar,\n",
    ") -> sf.V2:\n",
    "    p_inC = T_inC_ofW * p_inW\n",
    "    z = sf.Max(p_inC[2], epsilon)  # <-- points with non-positive depth will have large but finite error\n",
    "    return sf.V2(\n",
    "        fx * (p_inC[0] / z) + cx,\n",
    "        fy * (p_inC[1] / z) + cy,\n",
    "    )"
   ]
  },
  {
   "cell_type": "markdown",
   "metadata": {},
   "source": [
    "Write a symbolic function that computes the difference between a projected point and an image point."
   ]
  },
  {
   "cell_type": "code",
   "execution_count": null,
   "metadata": {},
   "outputs": [],
   "source": [
    "def sf_projection_residual(\n",
    "    T_inC_ofW: sf.Pose3,\n",
    "    p_inW: sf.V3,\n",
    "    q: sf.V2,\n",
    "    fx: sf.Scalar,\n",
    "    fy: sf.Scalar,\n",
    "    cx: sf.Scalar,\n",
    "    cy: sf.Scalar,\n",
    "    epsilon: sf.Scalar,  \n",
    ") -> sf.V2:\n",
    "    q_proj = sf_projection(T_inC_ofW, p_inW, fx, fy, cx, cy, epsilon)\n",
    "\n",
    "    # Find the reprojection error\n",
    "    unwhitened_residual = sf.V2(q_proj - q)\n",
    "    \n",
    "    # Create a \"noise model\" that allows us to implement the Geman-McClure robust loss function\n",
    "    noise_model = BarronNoiseModel(\n",
    "        alpha=-2,\n",
    "        scalar_information=1,\n",
    "        x_epsilon=epsilon,\n",
    "        alpha_epsilon=epsilon,\n",
    "    )\n",
    "    \n",
    "    # Return the \"whitened residual\" that corresponds to the robust loss function\n",
    "    return noise_model.whiten_norm(unwhitened_residual)"
   ]
  },
  {
   "cell_type": "markdown",
   "metadata": {},
   "source": [
    "Create one more residual to fix the scale so that the distance between frame $A$ and frame $B$ is close to one."
   ]
  },
  {
   "cell_type": "code",
   "execution_count": null,
   "metadata": {},
   "outputs": [],
   "source": [
    "def sf_scale_residual(\n",
    "    T_inC_ofW: sf.Pose3,\n",
    "    epsilon: sf.Scalar,\n",
    ") -> sf.V1:\n",
    "    return sf.V1(T_inC_ofW.t.norm() - 1)"
   ]
  },
  {
   "cell_type": "markdown",
   "metadata": {},
   "source": [
    "Create initial values for optimization."
   ]
  },
  {
   "cell_type": "code",
   "execution_count": null,
   "metadata": {},
   "outputs": [],
   "source": [
    "initial_values = Values(\n",
    "    T_inA_ofA=sym.Pose3(\n",
    "        R=sym.Rot3.from_rotation_matrix(np.eye(3)),\n",
    "        t=np.zeros(3),\n",
    "    ),\n",
    "    T_inB_ofA=sym.Pose3(\n",
    "        R=sym.Rot3.from_rotation_matrix(R_inB_ofA),\n",
    "        t=p_inB_ofA,\n",
    "    ),\n",
    "    matches=[],\n",
    "    fx=K[0, 0],\n",
    "    fy=K[1, 1],\n",
    "    cx=K[0, 2],\n",
    "    cy=K[1, 2],\n",
    "    epsilon=sym.epsilon,\n",
    ")\n",
    "for a_i, b_i, p_inA_i in zip(a, b, p_inA):\n",
    "    match = Values(\n",
    "        a=a_i,\n",
    "        b=b_i,\n",
    "        p_inA=p_inA_i,\n",
    "    )\n",
    "    initial_values['matches'].append(match)"
   ]
  },
  {
   "cell_type": "markdown",
   "metadata": {},
   "source": [
    "Create factors for optimization."
   ]
  },
  {
   "cell_type": "code",
   "execution_count": null,
   "metadata": {},
   "outputs": [],
   "source": [
    "factors = [\n",
    "    Factor(\n",
    "        residual=sf_scale_residual,\n",
    "        keys=[\n",
    "            'T_inB_ofA',\n",
    "            'epsilon',\n",
    "        ],\n",
    "    )\n",
    "]\n",
    "for i_match, match in enumerate(initial_values['matches']):\n",
    "    factors.append(Factor(\n",
    "        residual=sf_projection_residual,\n",
    "        keys=[\n",
    "            'T_inA_ofA',\n",
    "            f'matches[{i_match}].p_inA',\n",
    "            f'matches[{i_match}].a',\n",
    "            'fx',\n",
    "            'fy',\n",
    "            'cx',\n",
    "            'cy',\n",
    "            'epsilon',\n",
    "        ],\n",
    "    ))\n",
    "    factors.append(Factor(\n",
    "        residual=sf_projection_residual,\n",
    "        keys=[\n",
    "            'T_inB_ofA',\n",
    "            f'matches[{i_match}].p_inA',\n",
    "            f'matches[{i_match}].b',\n",
    "            'fx',\n",
    "            'fy',\n",
    "            'cx',\n",
    "            'cy',\n",
    "            'epsilon',\n",
    "        ],\n",
    "    ))"
   ]
  },
  {
   "cell_type": "markdown",
   "metadata": {},
   "source": [
    "Create optimizer."
   ]
  },
  {
   "cell_type": "code",
   "execution_count": null,
   "metadata": {},
   "outputs": [],
   "source": [
    "optimized_keys = ['T_inB_ofA']\n",
    "for i_match, match in enumerate(initial_values['matches']):\n",
    "    optimized_keys.append(f'matches[{i_match}].p_inA')\n",
    "optimizer = Optimizer(\n",
    "    factors=factors,\n",
    "    optimized_keys=optimized_keys,\n",
    "    debug_stats=True,\n",
    "    params=Optimizer.Params(\n",
    "        iterations=100,\n",
    "        use_diagonal_damping=True,      # <-- this makes a big difference (try turning it off!)\n",
    "    ),\n",
    ")"
   ]
  },
  {
   "cell_type": "markdown",
   "metadata": {},
   "source": [
    "Run optimizer."
   ]
  },
  {
   "cell_type": "code",
   "execution_count": null,
   "metadata": {},
   "outputs": [],
   "source": [
    "result = optimizer.optimize(initial_values)\n",
    "assert(result.status == Optimizer.Status.SUCCESS)"
   ]
  },
  {
   "cell_type": "markdown",
   "metadata": {},
   "source": [
    "Get results."
   ]
  },
  {
   "cell_type": "code",
   "execution_count": null,
   "metadata": {},
   "outputs": [],
   "source": [
    "T_inB_ofA_sf = result.optimized_values['T_inB_ofA'].to_homogenous_matrix()\n",
    "R_inB_ofA_sf = T_inB_ofA_sf[0:3, 0:3]\n",
    "p_inB_ofA_sf = T_inB_ofA_sf[0:3, 3]\n",
    "p_inA_sf = np.array([\n",
    "    match['p_inA'] for match in result.optimized_values['matches']\n",
    "])"
   ]
  },
  {
   "cell_type": "markdown",
   "metadata": {},
   "source": [
    "Compute reprojection error from results."
   ]
  },
  {
   "cell_type": "code",
   "execution_count": null,
   "metadata": {},
   "outputs": [],
   "source": [
    "e_a_sf = projection_error(K, np.eye(3), np.zeros(3), p_inA_sf, a)\n",
    "e_b_sf = projection_error(K, R_inB_ofA_sf, p_inB_ofA_sf, p_inA_sf, b)"
   ]
  },
  {
   "cell_type": "markdown",
   "metadata": {},
   "source": [
    "## Visualize results"
   ]
  },
  {
   "cell_type": "markdown",
   "metadata": {},
   "source": [
    "Create function to show error statistics."
   ]
  },
  {
   "cell_type": "code",
   "execution_count": null,
   "metadata": {},
   "outputs": [],
   "source": [
    "def show_stats(e_a, e_b):\n",
    "    print(f'A ({len(e_a):5d}) : (mean, std, max, min) = ({np.mean(e_a):4.2f}, {np.std(e_a):4.2f}, {np.max(e_a):4.2f}, {np.min(e_a):4.2f})')\n",
    "    print(f'B ({len(e_b):5d}) : (mean, std, max, min) = ({np.mean(e_b):4.2f}, {np.std(e_b):4.2f}, {np.max(e_b):4.2f}, {np.min(e_b):4.2f})')"
   ]
  },
  {
   "cell_type": "markdown",
   "metadata": {},
   "source": [
    "Estimates."
   ]
  },
  {
   "cell_type": "code",
   "execution_count": null,
   "metadata": {},
   "outputs": [],
   "source": [
    "print('ESTIMATES')\n",
    "print('\\nCV')\n",
    "myprint(R_inB_ofA_cv)\n",
    "myprint(p_inB_ofA_cv)\n",
    "print('\\nYOURS (initial guess)')\n",
    "myprint(R_inB_ofA)\n",
    "myprint(p_inB_ofA)\n",
    "print('\\nYOURS (optimized)')\n",
    "myprint(R_inB_ofA_sf)\n",
    "myprint(p_inB_ofA_sf)"
   ]
  },
  {
   "cell_type": "markdown",
   "metadata": {},
   "source": [
    "Reprojection errors."
   ]
  },
  {
   "cell_type": "code",
   "execution_count": null,
   "metadata": {},
   "outputs": [],
   "source": [
    "print('REPROJECTION ERRORS')\n",
    "print('\\nCV (inliers)')\n",
    "show_stats(e_a_inliers_cv, e_b_inliers_cv)\n",
    "print('\\nCV (outliers)')\n",
    "show_stats(e_a_outliers_cv, e_b_outliers_cv)\n",
    "print('\\nYOURS (initial guess)')\n",
    "show_stats(e_a, e_b)\n",
    "print('\\nYOURS (optimized)')\n",
    "show_stats(e_a_sf, e_b_sf)\n",
    "threshold = 0.5\n",
    "print('\\nYOURS (optimized, with statistics only over erros less than {threshold} px)')\n",
    "show_stats(\n",
    "    np.array([e_a_sf_i for e_a_sf_i in e_a_sf if e_a_sf_i < threshold]),\n",
    "    np.array([e_b_sf_i for e_b_sf_i in e_b_sf if e_b_sf_i < threshold]),\n",
    ")"
   ]
  },
  {
   "cell_type": "markdown",
   "metadata": {},
   "source": [
    "Histogram of reprojection errors."
   ]
  },
  {
   "cell_type": "code",
   "execution_count": null,
   "metadata": {},
   "outputs": [],
   "source": [
    "fig, ax = plt.subplots(3, 2, figsize=(10, 5), sharex=True)\n",
    "bins = np.linspace(0, 5, 50)\n",
    "\n",
    "ax[0, 0].hist(e_a_inliers_cv, bins, alpha=0.5, label=f'inliers (cv)')\n",
    "ax[0, 0].hist(e_a_outliers_cv, bins, alpha=0.5, label=f'outliers (cv)')\n",
    "ax[0, 0].legend()\n",
    "ax[0, 1].hist(e_b_inliers_cv, bins, alpha=0.5, label=f'inliers (cv)')\n",
    "ax[0, 1].hist(e_b_outliers_cv, bins, alpha=0.5, label=f'outliers (cv)')\n",
    "ax[0, 1].legend()\n",
    "ax[0, 0].set_title(f'A')\n",
    "ax[0, 1].set_title(f'B')\n",
    "\n",
    "ax[1, 0].hist(e_a, bins, alpha=0.5, label=f'yours (initial)')\n",
    "ax[1, 0].legend()\n",
    "ax[1, 1].hist(e_b, bins, alpha=0.5, label=f'yours (initial)')\n",
    "ax[1, 1].legend()\n",
    "\n",
    "ax[2, 0].hist(e_a_sf, bins, alpha=0.5, label=f'yours (optimized)')\n",
    "ax[2, 0].legend()\n",
    "ax[2, 1].hist(e_b_sf, bins, alpha=0.5, label=f'yours (optimized)')\n",
    "ax[2, 1].legend()\n",
    "\n",
    "ax[2, 0].set_xlabel('error (pixels)')\n",
    "ax[2, 1].set_xlabel('error (pixels)')\n",
    "plt.show()"
   ]
  },
  {
   "cell_type": "markdown",
   "metadata": {},
   "source": [
    "For more information on robust cost functions, see (for example) this paper:\n",
    "\n",
    "[K. MacTavish and T. D. Barfoot, \"At all Costs: A Comparison of Robust Cost Functions for Camera Correspondence Outliers,\" 2015 12th Conference on Computer and Robot Vision, Halifax, NS, Canada, 2015, pp. 62-69, doi: 10.1109/CRV.2015.52](https://doi.org/10.1109/CRV.2015.52)"
   ]
  }
 ],
 "metadata": {
  "kernelspec": {
   "display_name": "sf-test",
   "language": "python",
   "name": "python3"
  },
  "language_info": {
   "codemirror_mode": {
    "name": "ipython",
    "version": 3
   },
   "file_extension": ".py",
   "mimetype": "text/x-python",
   "name": "python",
   "nbconvert_exporter": "python",
   "pygments_lexer": "ipython3",
   "version": "3.12.1"
  }
 },
 "nbformat": 4,
 "nbformat_minor": 2
}
