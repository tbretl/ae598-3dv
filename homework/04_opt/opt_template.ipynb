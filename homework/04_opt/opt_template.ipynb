{
 "cells": [
  {
   "cell_type": "markdown",
   "metadata": {},
   "source": [
    "# Nonlinear least-squares"
   ]
  },
  {
   "cell_type": "markdown",
   "metadata": {},
   "source": [
    "Import everything we need."
   ]
  },
  {
   "cell_type": "code",
   "execution_count": null,
   "metadata": {},
   "outputs": [],
   "source": [
    "import symforce\n",
    "symforce.set_epsilon_to_symbol() # <-- must be done first and exactly once\n",
    "import symforce.symbolic as sf\n",
    "from symforce.values import Values\n",
    "from symforce.opt.factor import Factor\n",
    "from symforce.opt.optimizer import Optimizer\n",
    "from symforce.opt.noise_models import PseudoHuberNoiseModel\n",
    "from symforce.opt.noise_models import BarronNoiseModel\n",
    "import sym\n",
    "\n",
    "import numpy as np\n",
    "import secrets\n",
    "import json\n",
    "import matplotlib.pyplot as plt\n",
    "from scipy.stats import chi2\n",
    "from scipy.linalg import sqrtm"
   ]
  },
  {
   "cell_type": "markdown",
   "metadata": {},
   "source": [
    "Create random number generator."
   ]
  },
  {
   "cell_type": "code",
   "execution_count": null,
   "metadata": {},
   "outputs": [],
   "source": [
    "seed = secrets.randbits(32)\n",
    "print(f'seeding RNG with {seed}')\n",
    "rng = np.random.default_rng(seed)"
   ]
  },
  {
   "cell_type": "markdown",
   "metadata": {},
   "source": [
    "Define a function to print things nicely."
   ]
  },
  {
   "cell_type": "code",
   "execution_count": null,
   "metadata": {},
   "outputs": [],
   "source": [
    "def myprint(M):\n",
    "    \"\"\"\n",
    "    Prints either a scalar or a numpy array with four digits after the\n",
    "    decimal and with consistent spacing so it is easier to read.\n",
    "    \"\"\"\n",
    "    if type(M) is np.ndarray:\n",
    "        with np.printoptions(linewidth=150, formatter={'float': lambda x: f'{x:10.4f}'}):\n",
    "            print(M)\n",
    "    else:\n",
    "        print(f'{M:10.4f}')"
   ]
  },
  {
   "cell_type": "markdown",
   "metadata": {},
   "source": [
    "## Triangulation"
   ]
  },
  {
   "cell_type": "markdown",
   "metadata": {},
   "source": [
    "The problem we want to solve is\n",
    "\n",
    "$$ \\underset{p^A \\in \\mathbb{R}^3}{\\text{minimize}} \\qquad \\dfrac{1}{2}\\left( \\| b_1 - \\eta\\left( K (R^{B_1}_A p^A + p^{B_1}_A) \\right) \\|^2 + \\| b_2 - \\eta\\left( K (R^{B_2}_A p^A + p^{B_2}_A) \\right) \\|^2 \\right)$$\n",
    "\n",
    "where the function\n",
    "\n",
    "$$ \\eta\\colon\\mathbb{R}^3 \\rightarrow \\mathbb{R}^2 $$\n",
    "\n",
    "is defined by\n",
    "\n",
    "$$ \\eta(v) = \\begin{bmatrix} r_1 / r_3 \\\\ r_2 / r_3 \\end{bmatrix}. $$"
   ]
  },
  {
   "cell_type": "markdown",
   "metadata": {},
   "source": [
    "**PROBLEM 1.** Answer the following questions:\n",
    "* What is being minimized? (I.e., what do the two parts of the cost represent?)\n",
    "* What is the decision variable and what does it represent?\n",
    "* What are the constant terms in the cost (i.e., the \"givens\") and what do they represent?\n",
    "* What is $\\eta$ and what does it represent?"
   ]
  },
  {
   "cell_type": "markdown",
   "metadata": {},
   "source": [
    "Load data."
   ]
  },
  {
   "cell_type": "code",
   "execution_count": null,
   "metadata": {},
   "outputs": [],
   "source": [
    "# Load data from JSON file\n",
    "with open('data_triangulation.json', 'r') as f:\n",
    "    data = json.load(f)\n",
    "\n",
    "# Convert all lists to numpy arrays\n",
    "for k in data.keys():\n",
    "    data[k] = np.array(data[k])\n",
    "\n",
    "# Rename the variables we need, for convenience\n",
    "b_1 = data['b_0']\n",
    "b_2 = data['b_1']\n",
    "R_inB1_ofA = data['R_inB0_ofA']\n",
    "R_inB2_ofA = data['R_inB1_ofA']\n",
    "p_inB1_ofA = data['p_inB0_ofA']\n",
    "p_inB2_ofA = data['p_inB1_ofA']\n",
    "p_inA_true = data['p_inA']\n",
    "K = np.array(data['K'])"
   ]
  },
  {
   "cell_type": "markdown",
   "metadata": {},
   "source": [
    "Choose an initial guess."
   ]
  },
  {
   "cell_type": "code",
   "execution_count": null,
   "metadata": {},
   "outputs": [],
   "source": [
    "p_inA_initial_value = p_inA_true + 0.5 * rng.standard_normal(size=len(data['p_inA']))"
   ]
  },
  {
   "cell_type": "markdown",
   "metadata": {},
   "source": [
    "### Optimize (SymForce)"
   ]
  },
  {
   "cell_type": "markdown",
   "metadata": {},
   "source": [
    "Define residual function."
   ]
  },
  {
   "cell_type": "code",
   "execution_count": null,
   "metadata": {},
   "outputs": [],
   "source": [
    "def sf_projection(\n",
    "    T_inC_ofW: sf.Pose3,\n",
    "    p_inW: sf.V3,\n",
    "    fx: sf.Scalar,\n",
    "    fy: sf.Scalar,\n",
    "    cx: sf.Scalar,\n",
    "    cy: sf.Scalar,\n",
    "    epsilon: sf.Scalar,\n",
    ") -> sf.V2:\n",
    "    \"\"\"\n",
    "    Symbolic function that projects a point into an image. (If the depth\n",
    "    of this point is non-positive, then the projection will be pushed far\n",
    "    away from the image center.)\n",
    "    \"\"\"\n",
    "    p_inC = T_inC_ofW * p_inW\n",
    "    z = sf.Max(p_inC[2], epsilon)   # <-- if depth is non-positive, then projection\n",
    "                                    #     will be pushed far away from image center\n",
    "    return sf.V2(\n",
    "        fx * (p_inC[0] / z) + cx,\n",
    "        fy * (p_inC[1] / z) + cy,\n",
    "    )\n",
    "\n",
    "def sf_projection_residual(\n",
    "    T_inC_ofW: sf.Pose3,\n",
    "    p_inW: sf.V3,\n",
    "    q: sf.V2,\n",
    "    fx: sf.Scalar,\n",
    "    fy: sf.Scalar,\n",
    "    cx: sf.Scalar,\n",
    "    cy: sf.Scalar,\n",
    "    epsilon: sf.Scalar,  \n",
    ") -> sf.V2:\n",
    "    \"\"\"\n",
    "    Symbolic function that computes the difference between a projected point\n",
    "    and an image point.\n",
    "    \"\"\"\n",
    "    q_proj = sf_projection(T_inC_ofW, p_inW, fx, fy, cx, cy, epsilon)\n",
    "    return sf.V2(q_proj - q)"
   ]
  },
  {
   "cell_type": "markdown",
   "metadata": {},
   "source": [
    "Create initial values, factors, and optimizer."
   ]
  },
  {
   "cell_type": "code",
   "execution_count": null,
   "metadata": {},
   "outputs": [],
   "source": [
    "# Create data structures\n",
    "# - Initial values\n",
    "initial_values = Values(\n",
    "    fx=K[0, 0],\n",
    "    fy=K[1, 1],\n",
    "    cx=K[0, 2],\n",
    "    cy=K[1, 2],\n",
    "    T_inB1_ofA=sym.Pose3(\n",
    "        R=sym.Rot3.from_rotation_matrix(R_inB1_ofA),\n",
    "        t=p_inB1_ofA,\n",
    "    ),\n",
    "    T_inB2_ofA=sym.Pose3(\n",
    "        R=sym.Rot3.from_rotation_matrix(R_inB2_ofA),\n",
    "        t=p_inB2_ofA,\n",
    "    ),\n",
    "    p_inA=p_inA_initial_value,\n",
    "    b_1=b_1,\n",
    "    b_2=b_2,\n",
    "    epsilon=sym.epsilon,\n",
    ")\n",
    "# - Optimized keys (i.e., variables to be optimized)\n",
    "optimized_keys = ['p_inA']\n",
    "# - Factors (i.e., terms in the residual)\n",
    "factors = [\n",
    "    Factor(\n",
    "        residual=sf_projection_residual,\n",
    "        keys=[\n",
    "            f'T_inB1_ofA',\n",
    "            f'p_inA',\n",
    "            f'b_1',\n",
    "            'fx',\n",
    "            'fy',\n",
    "            'cx',\n",
    "            'cy',\n",
    "            'epsilon',\n",
    "        ],\n",
    "    ),\n",
    "    Factor(\n",
    "        residual=sf_projection_residual,\n",
    "        keys=[\n",
    "            f'T_inB2_ofA',\n",
    "            f'p_inA',\n",
    "            f'b_2',\n",
    "            'fx',\n",
    "            'fy',\n",
    "            'cx',\n",
    "            'cy',\n",
    "            'epsilon',\n",
    "        ],\n",
    "    ),\n",
    "]\n",
    "   \n",
    "# Create optimizer\n",
    "optimizer = Optimizer(\n",
    "    factors=factors,\n",
    "    optimized_keys=optimized_keys,\n",
    "    debug_stats=True,\n",
    "    params=Optimizer.Params(\n",
    "        iterations=100,\n",
    "        use_diagonal_damping=True,\n",
    "        lambda_down_factor=0.1,\n",
    "        lambda_up_factor=5.,\n",
    "        early_exit_min_reduction=1e-10,\n",
    "    ),\n",
    ")"
   ]
  },
  {
   "cell_type": "markdown",
   "metadata": {},
   "source": [
    "Do optimization."
   ]
  },
  {
   "cell_type": "code",
   "execution_count": null,
   "metadata": {},
   "outputs": [],
   "source": [
    "result = optimizer.optimize(initial_values)\n",
    "assert(result.status == symforce.opt.optimizer.Optimizer.Status.SUCCESS)"
   ]
  },
  {
   "cell_type": "markdown",
   "metadata": {},
   "source": [
    "### Optimize (from scratch)"
   ]
  },
  {
   "cell_type": "markdown",
   "metadata": {},
   "source": [
    "**PROBLEM 2.** Define $m$, $n$, $x$, $y_1, \\dotsc, y_n$, and $f_1, \\dotsc, f_n$ so that the cost function can be written in standard form:\n",
    "$$ \\underset{x \\in \\mathbb{R}^m}{\\text{minimize}} \\qquad \\dfrac{1}{2} \\sum_{i=1}^{n} \\| y_i - f_i(x) \\|^2.$$"
   ]
  },
  {
   "cell_type": "markdown",
   "metadata": {},
   "source": [
    "**PROBLEM 3.** Define $z$ and derive expressions for $v_1, \\dotsc, v_n$ and $H_1, \\dotsc, H_n$ so that a first-order (linear) approximation to the cost function near $x_0\\in\\mathbb{R}^m$ can be written in standard form:\n",
    "\n",
    "$$ \\underset{z \\in \\mathbb{R}^m}{\\text{minimize}} \\qquad \\dfrac{1}{2} \\sum_{i=1}^{n} \\| v_i(x_0) - H_i(x_0) z \\|^2.$$"
   ]
  },
  {
   "cell_type": "markdown",
   "metadata": {},
   "source": [
    "**PROBLEM 4**. Implement the Levenberg-Marquardt algorithm (i.e., damped Gauss-Newton) for iterative nonlinear least-squares minimization. Please describe the variant that you are using (e.g., what is the stopping criterion, are you doing line search or not, is the damping parameter $\\mu$ constant and — if not — what is your logic for updating $\\mu$ from one iteration to the next, how do you decide whether or not to take a step, etc.). You may want to use the following template code, but feel free to disregard this template and start from scratch."
   ]
  },
  {
   "cell_type": "code",
   "execution_count": null,
   "metadata": {},
   "outputs": [],
   "source": [
    "# Choose a damping parameter (FIXME)\n",
    "mu = 0.\n",
    "\n",
    "# Choose an initial guess\n",
    "p_inA = p_inA_initial_value.copy()\n",
    "\n",
    "# Compute the initial error\n",
    "# e_prev = ...\n",
    "\n",
    "# Iterate\n",
    "iter = 0\n",
    "max_iters = 100\n",
    "while iter < max_iters:\n",
    "\n",
    "    # Get v_i and H_i\n",
    "    # ...\n",
    "\n",
    "    # Get z\n",
    "    # ...\n",
    "\n",
    "    # Get new error (that would result from taking the step z) and relative reduction\n",
    "    # e_new = ...\n",
    "    # rel_reduction = ...\n",
    "    \n",
    "    # Show current status\n",
    "    print(f'{iter:5d} : {e_prev:11.4e}, {e_new:11.4e} : {rel_reduction:11.4e}')\n",
    "    \n",
    "    # Decide whether or not to take a step - if so, update p_inA and e_prev\n",
    "    # if (...):\n",
    "    #     p_inA = ...\n",
    "    #     e_prev = e_new\n",
    "\n",
    "    # Update iteration\n",
    "    iter += 1\n",
    "\n",
    "    # Stop if rel_reduction is small enough (but still positive)\n",
    "    if (rel_reduction > 0) and (rel_reduction < 1e-10):\n",
    "        break"
   ]
  },
  {
   "cell_type": "markdown",
   "metadata": {},
   "source": [
    "Check that the result produced by your implementation is the same as the result produce by the implementation with SymForce."
   ]
  },
  {
   "cell_type": "code",
   "execution_count": null,
   "metadata": {},
   "outputs": [],
   "source": [
    "print('p_inA (symforce) =')\n",
    "myprint(result.optimized_values['p_inA'])\n",
    "\n",
    "print('')\n",
    "\n",
    "print('p_inA (from scratch):')\n",
    "myprint(p_inA)\n",
    "\n",
    "assert(np.allclose(result.optimized_values['p_inA'], p_inA))"
   ]
  },
  {
   "cell_type": "markdown",
   "metadata": {},
   "source": [
    "### Analysis of uncertainty"
   ]
  },
  {
   "cell_type": "markdown",
   "metadata": {},
   "source": [
    "Get the covariance assocated with the estimate of $p^A$ found with SymForce."
   ]
  },
  {
   "cell_type": "code",
   "execution_count": null,
   "metadata": {},
   "outputs": [],
   "source": [
    "# Compute full covariance\n",
    "cov = optimizer.compute_full_covariance(result.optimized_values)\n",
    "\n",
    "# Get the covariance associated with the variable of interest (this isn't necessary -\n",
    "# since there is only one variable over which we are optimizing, \"cov\" and \"cov_p_inA\"\n",
    "# are exactly the same - but we do this anyway as an example)\n",
    "idx = optimizer.linearization_index()\n",
    "cov_p_inA_sf = cov[idx['p_inA'].offset : idx['p_inA'].offset + idx['p_inA'].tangent_dim,\n",
    "                   idx['p_inA'].offset : idx['p_inA'].offset + idx['p_inA'].tangent_dim]"
   ]
  },
  {
   "cell_type": "markdown",
   "metadata": {},
   "source": [
    "**PROBLEM 5.** Write an expression for the covariance associated with the estimate of $p^A$ found \"from scratch.\""
   ]
  },
  {
   "cell_type": "markdown",
   "metadata": {},
   "source": [
    "**PROBLEM 6.** Evalute the expression you just wrote to get the covariance associated with the estimate of $p^A$ found \"from scratch.\""
   ]
  },
  {
   "cell_type": "code",
   "execution_count": null,
   "metadata": {},
   "outputs": [],
   "source": [
    "# FIXME\n",
    "# cov_p_inA = ..."
   ]
  },
  {
   "cell_type": "markdown",
   "metadata": {},
   "source": [
    "Check that the two results are the same."
   ]
  },
  {
   "cell_type": "code",
   "execution_count": null,
   "metadata": {},
   "outputs": [],
   "source": [
    "print('cov_p_inA (symforce) =')\n",
    "myprint(cov_p_inA_sf)\n",
    "\n",
    "print('')\n",
    "\n",
    "print('cov_p_inA (from scratch):')\n",
    "myprint(cov_p_inA)\n",
    "\n",
    "assert(np.allclose(cov_p_inA_sf, cov_p_inA))"
   ]
  },
  {
   "cell_type": "markdown",
   "metadata": {},
   "source": [
    "**PROBLEM 7.** Which components of your estimate of $p^A$ are the most certain and which are the most uncertain?"
   ]
  },
  {
   "cell_type": "markdown",
   "metadata": {},
   "source": [
    "**PROBLEM 8.** Plot the 90%-confidence ellipse that is associated with the first (i.e., \"$x$\") component and third (i.e., \"$z$\") component of the estimate. On the same axis, visualize the frames $B_1$ and $B_2$ (e.g., plot their origins and the directions of their $z$ axes). Explain what you are seeing."
   ]
  },
  {
   "cell_type": "markdown",
   "metadata": {},
   "source": [
    "**PROBLEM 9.** Our expression for the triangulation problem was based on the assumption that errors in the image coordinates $b_1$ and $b_2$ were normally distributed with zero mean (pixels) and unit variance (squared pixels). What if the variance was $\\sigma^2$ instead, for some $\\sigma > 0$? What — if anything — would change about the cost, the resulting estimate of $p^A$, and the covariance associated with this estimate?"
   ]
  }
 ],
 "metadata": {
  "kernelspec": {
   "display_name": "sf-test",
   "language": "python",
   "name": "python3"
  },
  "language_info": {
   "codemirror_mode": {
    "name": "ipython",
    "version": 3
   },
   "file_extension": ".py",
   "mimetype": "text/x-python",
   "name": "python",
   "nbconvert_exporter": "python",
   "pygments_lexer": "ipython3",
   "version": "3.12.1"
  }
 },
 "nbformat": 4,
 "nbformat_minor": 2
}
